{
  "nbformat": 4,
  "nbformat_minor": 0,
  "metadata": {
    "colab": {
      "name": "qfin.ipynb",
      "provenance": [],
      "collapsed_sections": [],
      "authorship_tag": "ABX9TyMyJ3EBhKdOo5Ofnw0fOsXO",
      "include_colab_link": true
    },
    "kernelspec": {
      "name": "python3",
      "display_name": "Python 3"
    }
  },
  "cells": [
    {
      "cell_type": "markdown",
      "metadata": {
        "id": "view-in-github",
        "colab_type": "text"
      },
      "source": [
        "<a href=\"https://colab.research.google.com/github/YeweiYuan/Quantum-Pricing/blob/main/qfin.ipynb\" target=\"_parent\"><img src=\"https://colab.research.google.com/assets/colab-badge.svg\" alt=\"Open In Colab\"/></a>"
      ]
    },
    {
      "cell_type": "markdown",
      "metadata": {
        "id": "3rW2w9QoFsQt"
      },
      "source": [
        "功能性函数\n",
        "---"
      ]
    },
    {
      "cell_type": "markdown",
      "metadata": {
        "id": "eXW0J9mDGCpM"
      },
      "source": [
        "---\n",
        "辅助工具"
      ]
    },
    {
      "cell_type": "code",
      "metadata": {
        "id": "gn7Rdb9-F8ap",
        "outputId": "aca9f6e1-ade8-47bf-8855-99d69f0cd5ea",
        "colab": {
          "base_uri": "https://localhost:8080/",
          "height": 124
        }
      },
      "source": [
        "!pip install pyqpanda"
      ],
      "execution_count": 1,
      "outputs": [
        {
          "output_type": "stream",
          "text": [
            "Collecting pyqpanda\n",
            "\u001b[?25l  Downloading https://files.pythonhosted.org/packages/ae/c8/43d71e222155fc8ff024b2ba284cb01de8f373472d7c296b489cdb8b104c/pyqpanda-3.7.0-cp36-none-manylinux1_x86_64.whl (20.8MB)\n",
            "\u001b[K     |████████████████████████████████| 20.8MB 1.4MB/s \n",
            "\u001b[?25hRequirement already satisfied: numpy>=1.11.0 in /usr/local/lib/python3.6/dist-packages (from pyqpanda) (1.18.5)\n",
            "Installing collected packages: pyqpanda\n",
            "Successfully installed pyqpanda-3.7.0\n"
          ],
          "name": "stdout"
        }
      ]
    },
    {
      "cell_type": "code",
      "metadata": {
        "id": "dnJ5EjMOGBJ8"
      },
      "source": [
        "import pyqpanda.pyQPanda as pq\n",
        "import math\n",
        "import matplotlib.pyplot as plt\n",
        "import numpy as np"
      ],
      "execution_count": 2,
      "outputs": []
    },
    {
      "cell_type": "code",
      "metadata": {
        "id": "zi-oXfjTzfpI"
      },
      "source": [
        "def QG(qbits,G=pq.H):  #批量对qbits进行某G门,默认G为哈达玛门//注意这里一开始circuit=pq.create_empty_circuit()传参circuit会报错\n",
        "  circuit = pq.create_empty_circuit()\n",
        "  for i in range(len(qbits)):\n",
        "    circuit.insert(G(qbits[i]))\n",
        "  return circuit\n",
        "\n",
        "def power(circuit,k):  #进行k次circuit操作\n",
        "  circuitk = pq.create_empty_circuit()\n",
        "  for j in range(k):\n",
        "    circuitk.insert(circuit)\n",
        "  return circuitk\n",
        "\n",
        "def phasee(machine,qbits,prog,operator=QG,m=2): #相位估计，输入qbits,估计的算子，先前的量子程序，和用于相位估计的比特数\n",
        "  anc = machine.qAlloc_many(m)\n",
        "  clist = machine.cAlloc_many(m)\n",
        "  for i in range(m):\n",
        "    prog.insert(pq.H(anc[i]))\n",
        "    prog.insert(power(operator(qlist,G=pq.X),2**i).control(anc[i]))\n",
        "  \n",
        "  prog.insert(pq.QFT(anc).dagger())\n",
        "  prog.insert(pq.measure_all(anc,clist))\n",
        "  result = machine.run_with_configuration(prog,clist,1000)\n",
        "  print(result)\n",
        "  pq.finalize()"
      ],
      "execution_count": 63,
      "outputs": []
    },
    {
      "cell_type": "code",
      "metadata": {
        "id": "NIIyHY-zAWh_",
        "outputId": "552fab37-d1f4-4bf8-f362-c77cbd07392f",
        "colab": {
          "base_uri": "https://localhost:8080/",
          "height": 35
        }
      },
      "source": [
        "#检验X^n门  \n",
        "m_machine = pq.init_quantum_machine(pq.QMachineType.CPU)\n",
        "n=2\n",
        "qlist = m_machine.qAlloc_many(n)\n",
        "\n",
        "qprog = pq.QProg()\n",
        "qprog.insert(QG(qlist,G=pq.X))\n",
        "\n",
        "res = m_machine.prob_run_tuple_list(qprog,qlist,-1)\n",
        "print(res)\n",
        "\n",
        "pq.draw_qprog(qprog)\n",
        "pq.finalize()"
      ],
      "execution_count": 59,
      "outputs": [
        {
          "output_type": "stream",
          "text": [
            "{'00': 0.0, '01': 0.0, '10': 0.0, '11': 1.0}\n"
          ],
          "name": "stdout"
        }
      ]
    },
    {
      "cell_type": "code",
      "metadata": {
        "id": "taWYRbbEJCKt",
        "outputId": "ea399e7b-e3ed-453d-a15e-2e195253644b",
        "colab": {
          "base_uri": "https://localhost:8080/",
          "height": 35
        }
      },
      "source": [
        "#检验相位估计\n",
        "m_machine = pq.init_quantum_machine(pq.QMachineType.CPU)\n",
        "n=1\n",
        "qlist = m_machine.qAlloc_many(n)\n",
        "\n",
        "qprog = pq.QProg()\n",
        "qprog.insert(QG(qlist,G=pq.H)).insert(QG(qlist,G=pq.Z))\n",
        "\n",
        "phasee(m_machine,qlist,qprog,m=4)"
      ],
      "execution_count": 74,
      "outputs": [
        {
          "output_type": "stream",
          "text": [
            "{'0001': 408, '0011': 52, '0101': 24, '0111': 12, '1001': 22, '1011': 22, '1101': 55, '1111': 405}\n"
          ],
          "name": "stdout"
        }
      ]
    },
    {
      "cell_type": "code",
      "metadata": {
        "id": "4lqseBQObFfM"
      },
      "source": [
        ""
      ],
      "execution_count": null,
      "outputs": []
    },
    {
      "cell_type": "markdown",
      "metadata": {
        "id": "-uxK700-QD6T"
      },
      "source": [
        "量子期权定价\n",
        "---\n",
        "\n"
      ]
    },
    {
      "cell_type": "markdown",
      "metadata": {
        "id": "2GwHuuchQNzn"
      },
      "source": [
        "---\n",
        "蒙特卡罗方法和bsm\n",
        "\n"
      ]
    },
    {
      "cell_type": "code",
      "metadata": {
        "id": "PZf2LXwaBcQR"
      },
      "source": [
        "import numpy as np\n",
        "from scipy.stats import norm\n",
        "from numpy.random import standard_normal\n",
        "import matplotlib.pyplot as plt"
      ],
      "execution_count": 2,
      "outputs": []
    },
    {
      "cell_type": "code",
      "metadata": {
        "id": "9rbcbaO2BcNV"
      },
      "source": [
        "class Sampling:\n",
        "  def __init__(self,N=10000,T=365,S_0=5,K=5.5,Rate=0.04,Sigma=0.24,steps=100): #初始化一年的股票欧式期权，标的资产股票价格为5元，期权执行价格为6元，年化无风险利率和年化波动率分别为4%和24%，模拟10000次\n",
        "    self.N = N # sample size\n",
        "    self.T = T/365 # time\n",
        "    self.S_0 = S_0 # init price\n",
        "    self.Rate = Rate # rate\n",
        "    self.Sigma = Sigma # volatility\n",
        "    self.K = K # strike price\n",
        "    self.steps = steps #二叉树取节点数默认1年100次\n",
        "\n",
        "  def callMonteCarlo(self): #蒙特卡罗法，看涨期权\n",
        "    z = standard_normal(self.N)\n",
        "    S_t = self.S_0*np.exp((self.Rate-0.5*self.Sigma**2)*self.T+self.Sigma*z*np.sqrt(self.T))\n",
        "    call = np.maximum(0,S_t-self.K)\n",
        "    res = sum(call)*(np.exp(-self.Rate*self.T))/self.N\n",
        "    return res\n",
        "  \n",
        "  def callBSM(self): #BSM模型，看涨期权\n",
        "    d1 = (np.log(self.S_0/self.K)+(self.Rate*self.T))/ \\\n",
        "    (self.Sigma*np.sqrt(self.T))+0.5*self.Sigma*np.sqrt(self.T)\n",
        "    d2 = d1-self.Sigma*np.sqrt(self.T)\n",
        "    call = self.S_0*norm.cdf(d1,0.0,1.0)-self.K*np.exp(-self.Rate*self.T)*norm.cdf(d2,0.0,1.0)\n",
        "    return call\n",
        "\n",
        "  def callBin(self): #二叉树模型，看涨期权\n",
        "    u=np.exp(self.Sigma*np.sqrt(self.T/self.steps))\n",
        "    d=1/u\n",
        "    P=(np.exp(self.Rate*self.T/self.steps)-d)/(u-d)\n",
        "    S_t = [[] for i in range(self.steps+1)]\n",
        "    call = [[] for i in range(self.steps+1)] \n",
        "    S_t[0]=self.S_0*d**self.steps #最后一行最后一列的股票价格\n",
        "    call[0]=np.maximum(S_t[0]-self.K,0) #最后一行最后一列的期权价值\n",
        "    for i in range(1,self.steps+1):\n",
        "      S_t[i]=S_t[i-1]*(u**2) #计算最后一列的股票价格\n",
        "      call[i]=np.maximum(S_t[i]-self.K,0) #计算最后一列的期权价值\n",
        "    for j in range(self.steps,0,-1): #逐个节点往前计算\n",
        "      for i in range(0,j):\n",
        "        call[i]=(P*call[i+1]+(1-P)*call[i])/np.exp(self.Rate*self.T/self.steps)\n",
        "    return call[0]\n"
      ],
      "execution_count": 3,
      "outputs": []
    },
    {
      "cell_type": "code",
      "metadata": {
        "id": "A__8hPZ-BcIT"
      },
      "source": [
        "test = Sampling()"
      ],
      "execution_count": null,
      "outputs": []
    },
    {
      "cell_type": "code",
      "metadata": {
        "id": "y7oJojPcBcFd",
        "outputId": "07c7ca4c-8fb5-46d3-b617-a7a94393398d",
        "colab": {
          "base_uri": "https://localhost:8080/",
          "height": 70
        }
      },
      "source": [
        "print('MonteCarlo: %f \\nBSM: %f \\nBIN: %f'%(test.callMonteCarlo(),test.callBSM(),test.callBin()))"
      ],
      "execution_count": null,
      "outputs": [
        {
          "output_type": "stream",
          "text": [
            "MonteCarlo: 0.364538 \n",
            "BLM: 0.361912 \n",
            "BIN: 0.360706\n"
          ],
          "name": "stdout"
        }
      ]
    },
    {
      "cell_type": "code",
      "metadata": {
        "id": "sIYu_rdcH4so",
        "outputId": "500f2351-c386-45b5-a65a-bbf9b5c5e132",
        "colab": {
          "base_uri": "https://localhost:8080/",
          "height": 283
        }
      },
      "source": [
        "MC = []\n",
        "for i in range(1000,201000,1000):\n",
        "  test = Sampling(N=i)\n",
        "  MC.append(test.callMonteCarlo())\n",
        "BSM = [test.callBSM()]*200\n",
        "plt.plot(range(1000,201000,1000),MC)\n",
        "plt.plot(range(1000,201000,1000),BSM)"
      ],
      "execution_count": 10,
      "outputs": [
        {
          "output_type": "execute_result",
          "data": {
            "text/plain": [
              "[<matplotlib.lines.Line2D at 0x7f3d7efb04a8>]"
            ]
          },
          "metadata": {
            "tags": []
          },
          "execution_count": 10
        },
        {
          "output_type": "display_data",
          "data": {
            "image/png": "[encoded data removed]",
            "text/plain": [
              "<Figure size 432x288 with 1 Axes>"
            ]
          },
          "metadata": {
            "tags": [],
            "needs_background": "light"
          }
        }
      ]
    },
    {
      "cell_type": "markdown",
      "metadata": {
        "id": "TbIbTjHTaJRU"
      },
      "source": [
        "---\n",
        "量子方法"
      ]
    },
    {
      "cell_type": "code",
      "metadata": {
        "id": "L108d_tijC0a",
        "outputId": "59bcbb0c-86d4-4d6f-fcae-4be51bda2851",
        "colab": {
          "base_uri": "https://localhost:8080/",
          "height": 124
        }
      },
      "source": [
        "!pip install pyqpanda"
      ],
      "execution_count": 11,
      "outputs": [
        {
          "output_type": "stream",
          "text": [
            "Collecting pyqpanda\n",
            "\u001b[?25l  Downloading https://files.pythonhosted.org/packages/ae/c8/43d71e222155fc8ff024b2ba284cb01de8f373472d7c296b489cdb8b104c/pyqpanda-3.7.0-cp36-none-manylinux1_x86_64.whl (20.8MB)\n",
            "\u001b[K     |████████████████████████████████| 20.8MB 1.3MB/s \n",
            "\u001b[?25hRequirement already satisfied: numpy>=1.11.0 in /usr/local/lib/python3.6/dist-packages (from pyqpanda) (1.18.5)\n",
            "Installing collected packages: pyqpanda\n",
            "Successfully installed pyqpanda-3.7.0\n"
          ],
          "name": "stdout"
        }
      ]
    },
    {
      "cell_type": "code",
      "metadata": {
        "id": "WPYNCHTq5mpj"
      },
      "source": [
        "import pyqpanda.pyQPanda as pq\n",
        "import math"
      ],
      "execution_count": 12,
      "outputs": []
    },
    {
      "cell_type": "code",
      "metadata": {
        "id": "MoQr49VG4ssK"
      },
      "source": [
        "import matplotlib.pyplot as plt\n",
        "import numpy as np\n",
        "from scipy.stats import norm\n",
        "from numpy.random import standard_normal"
      ],
      "execution_count": 5,
      "outputs": []
    },
    {
      "cell_type": "code",
      "metadata": {
        "id": "QhyH6ycM1bRq"
      },
      "source": [
        "class Qsampling:\n",
        "  def __init__(self,N=10,M=3,T=365,S_0=5,K=5.5,Rate=0.04,Sigma=0.24,machineType=pq.QMachineType.CPU,c=0.1): #3个用于拟合分布的qubits(2^(-n)的误差)，3个用于相位估计的qubits，1个ancilla qubit\n",
        "    self.N = N\n",
        "    self.M = M\n",
        "    self.T = T/365 # time\n",
        "    self.S_0 = S_0 # init price\n",
        "    self.Rate = Rate # rate\n",
        "    self.Sigma = Sigma # volatility\n",
        "    self.K = K # strike price\n",
        "    \n",
        "    self.m_machine = pq.init_quantum_machine(machineType)\n",
        "    self.m_qlist = self.m_machine.qAlloc_many(N)    #记录股价的N个qubits\n",
        "    self.AE_qlist = self.m_machine.qAlloc_many(M)    #相位估计的M个ancilla qubits\n",
        "    self.m_clist = self.m_machine.cAlloc_many(M)  \n",
        "    self.m_prog = pq.QProg()\n",
        "    self.c = c #s an additional scaling parameter\n",
        "\n",
        "    self.comparator = self.m_machine.qAlloc_many(1) \n",
        "    self.oracle = self.m_machine.qAlloc_many(1)\n",
        "\n",
        "  def __del__(self):\n",
        "    pq.destroy_quantum_machine(self.m_machine)\n",
        "\n",
        "  def sample(self):  #使用sample函数对布朗运动进行采样\n",
        "    x_max = np.sqrt(self.T)*3 #这里取3倍标准差涵盖99.7的分布\n",
        "    delta = 2*x_max/(2**self.N-1)\n",
        "    x_j = []\n",
        "    p_j = []\n",
        "    for j in range(2**self.N):\n",
        "      x_j.append(-x_max+j*delta)\n",
        "    for j in range(2**self.N):\n",
        "      p_j.append(norm.pdf(-x_max+j*delta))\n",
        "    p_j = np.array(p_j)/sum(p_j)\n",
        "\n",
        "    '''\n",
        "    未完成的手动量子态振幅编码程序\n",
        "    p_mk = [[] for i in range(self.N)]\n",
        "    for m in range(self.N):\n",
        "      for k in range(2**(m+1)):\n",
        "        p_mk[m].append(sum(p_j[k*2**(self.N-m-1):(k+1)*2**(self.N-m-1)]))\n",
        " \n",
        "    theta_mk = [[] for i in range(self.N-1)]\n",
        "    for m in range(self.N-1):\n",
        "      for k in range(2**(m+1)):\n",
        "        theta_mk[m].append(np.arccos(np.sqrt(p_mk[m+1][2*k]/p_mk[m][k])))\n",
        "    '''\n",
        "    qlist = self.m_qlist\n",
        "    cir_encode = pq.amplitude_encode(qlist[0:self.N],p_j)\n",
        "    self.m_prog.insert(cir_encode)\n",
        "    #print(p_j)\n",
        "    #print(x_j)\n",
        "    #self.m_prog.insert(pq.Measure(qlist[1],self.m_clist[1]))\n",
        "    #res = self.m_machine.run_with_configuration(self.m_prog,m_clist,1000)\n",
        "\n",
        "    res = self.m_machine.prob_run_tuple_list(self.m_prog,qlist[0:self.N],-1)\n",
        "    #print(res.values())\n",
        "    x_k = (math.log(self.K/self.S_0)-(self.Rate-0.5*self.Sigma**2)*self.T)/self.Sigma\n",
        "    x_kindex = int((x_k+x_max)/delta)\n",
        "    print(x_kindex)\n",
        "    plt.plot(x_j,p_j)\n",
        "    plt.plot(x_j,list(res.values()))\n",
        "    return x_j,p_j,x_kindex #返回取样点和取样点的概率\n",
        "\n",
        "  def compare():\n",
        "    circuit = pq.create_empty_circuit()\n",
        "    return circuit\n",
        "\n",
        "  def expectation(self): #使用expectation函数把采样的布朗运动映射到对应的期权价格并给出期望\n",
        "    x_j = self.sample()[0]\n",
        "    '''\n",
        "    v_x = []\n",
        "    for x in x_j:\n",
        "      v_x.append(max(0,self.S_0*np.exp((self.Rate-0.5*self.Sigma**2)*self.T+self.Sigma*x)-self.K))\n",
        "    print(v_x)\n",
        "    这里文献1试图把v_x编入量子电路中直接测量，但是需要各种量子电路上的算数运算，他也没给具体实现方法，想了一整天没想出来怎么操作\n",
        "    '''\n",
        "\n",
        "\n",
        "  \n",
        "  def qbin(self):\n",
        "    print('uncompleted')\n"
      ],
      "execution_count": 13,
      "outputs": []
    },
    {
      "cell_type": "code",
      "metadata": {
        "id": "hV-DO8cEEwAZ",
        "outputId": "d8d7ffd0-08ab-477d-8336-3617175039db",
        "colab": {
          "base_uri": "https://localhost:8080/",
          "height": 283
        }
      },
      "source": [
        "Qtest = Qsampling()\n",
        "Qtest.expectation()"
      ],
      "execution_count": 14,
      "outputs": [
        {
          "output_type": "stream",
          "text": [
            "571\n"
          ],
          "name": "stdout"
        },
        {
          "output_type": "display_data",
          "data": {
            "image/png": "[encoded data removed]",
            "text/plain": [
              "<Figure size 432x288 with 1 Axes>"
            ]
          },
          "metadata": {
            "tags": [],
            "needs_background": "light"
          }
        }
      ]
    },
    {
      "cell_type": "code",
      "metadata": {
        "id": "Zi_eeFsPEwch"
      },
      "source": [
        ""
      ],
      "execution_count": null,
      "outputs": []
    },
    {
      "cell_type": "code",
      "metadata": {
        "id": "XAVd-vi4Ev4Q"
      },
      "source": [
        ""
      ],
      "execution_count": null,
      "outputs": []
    },
    {
      "cell_type": "code",
      "metadata": {
        "id": "qJJ0RpWSNF53",
        "outputId": "2e56d1fc-4259-426f-f0ba-82b65595a9a2",
        "colab": {
          "base_uri": "https://localhost:8080/",
          "height": 356
        }
      },
      "source": [
        "Qtest = Qsampling()\n",
        "Qtest.sample()"
      ],
      "execution_count": null,
      "outputs": [
        {
          "output_type": "stream",
          "text": [
            "[0.00018047 0.00018206 0.00018367 ... 0.00018367 0.00018206 0.00018047]\n",
            "dict_values([2.606293674034532e-05, 2.6525125576881692e-05, 2.699458309507463e-05, 2.747140206338372e-05, 2.7955682526226155e-05, 2.844751907105092e-05, 2.8947009923285805e-05, 2.9454260584316216e-05, 2.9969374736538157e-05, 3.0492439691442996e-05, 3.102356640738435e-05, 3.1562864023726434e-05, 3.211044167983346e-05, 3.2666383049217984e-05, 3.3230800909223035e-05, 3.3803815313149244e-05, 3.43855244864244e-05, 3.4976044844370335e-05, 3.557548188837245e-05, 3.618394839577377e-05, 3.6801571695832536e-05, 3.7428435462061316e-05, 3.806465974776074e-05, 3.8710371882189065e-05, 3.93656846426893e-05, 4.003071808256209e-05, 4.070557770319283e-05, 4.139039447181858e-05, 4.2085288441739976e-05, 4.279036875232123e-05, 4.350578456069343e-05, 4.4231623178347945e-05, 4.496801193454303e-05, 4.571510726236738e-05, 4.6473011025227606e-05, 4.724186146631837e-05, 4.8021764087025076e-05, 4.881287895841524e-05, 4.9615311581874266e-05, 5.042920383857563e-05, 5.125468669575639e-05, 5.209188020671718e-05, 5.29409408045467e-05, 5.380198126658797e-05, 5.467513983603567e-05, 5.5560558394063264e-05, 5.645837518386543e-05, 5.736873208661564e-05, 5.829175643157214e-05, 5.922760465182364e-05, 6.017639680067077e-05, 6.113830022513866e-05, 6.211343134054914e-05, 6.31019429420121e-05, 6.410398054867983e-05, 6.51196896797046e-05, 6.614924495806918e-05, 6.71927336952649e-05, 6.825035234214738e-05, 6.932221003808081e-05, 7.040846685413271e-05, 7.150932651711628e-05, 7.262486906256527e-05, 7.375528366537765e-05, 7.490074494853616e-05, 7.60613547754474e-05, 7.723732414888218e-05, 7.842874038033187e-05, 7.963581447256729e-05, 8.085867011686787e-05, 8.209746010834351e-05, 8.335239544976503e-05, 8.46235707285814e-05, 8.591120422352105e-05, 8.721542690182105e-05, 8.853642066242173e-05, 8.987429464468732e-05, 9.122926712734625e-05, 9.260147635359317e-05, 9.399108967045322e-05, 9.539826714899391e-05, 9.682319068815559e-05, 9.826600580709055e-05, 9.972691623261198e-05, 0.00010120603838004172, 0.00010270359052810818, 0.00010421971819596365, 0.00010575458873063326, 0.00010730839130701497, 0.000108881235064473, 0.00011047332372982055, 0.00011208486830582842, 0.00011371599248377606, 0.00011536689999047667, 0.00011703775089699775, 0.00011872870527440682, 0.00012043992319377139, 0.0001221716229338199, 0.0001239239500137046, 0.00012569707178045064, 0.00012749125016853213, 0.00012930654338560998, 0.0001311431551584974, 0.000133001318317838, 0.00013488114927895367, 0.00013678283721674234, 0.0001387065858580172, 0.0001406525116181001, 0.0001426209055352956, 0.00014461184036917984, 0.00014662544708698988, 0.00014866204583086073, 0.00015072179667185992, 0.00015280475781764835, 0.00015491119120270014, 0.0001570412568980828, 0.00015919514407869428, 0.00016137301281560212, 0.0001635750668356195, 0.00016580145165789872, 0.00016805229824967682, 0.0001703279122011736, 0.00017262838082388043, 0.00017495392239652574, 0.00017730469699017704, 0.00017968086467590183, 0.00018208262918051332, 0.00018451010691933334, 0.00018696348706725985, 0.00018944301700685173, 0.00019194884225726128, 0.00019448113744147122, 0.00019704006263054907, 0.00019962573423981667, 0.00020223844330757856, 0.0002048782625934109, 0.00020754542492795736, 0.0002102400758303702, 0.00021296237537171692, 0.00021571248362306505, 0.0002184906043112278, 0.00022129688295535743, 0.00022413143597077578, 0.00022699456894770265, 0.0002298863691976294, 0.00023280699679162353, 0.00023575664090458304, 0.00023873541795182973, 0.00024174354621209204, 0.0002447810838930309, 0.00024784833658486605, 0.00025094536249525845, 0.0002540723653510213, 0.0002572294033598155, 0.00026041685487143695, 0.0002636346034705639, 0.0002668829692993313, 0.0002701620978768915, 0.00027347204741090536, 0.00027681305073201656, 0.0002801852533593774, 0.0002835888008121401, 0.0002870237221941352, 0.00029049033764749765, 0.00029398873448371887, 0.00029751897091045976, 0.00030108122155070305, 0.00030467574833892286, 0.00030830249306745827, 0.0003119617176707834, 0.00031565348035655916, 0.0003193779557477683, 0.0003231352020520717, 0.0003269255394116044, 0.0003307488514110446, 0.0003346053999848664, 0.0003384953015483916, 0.0003424186143092811, 0.0003463754546828568, 0.0003503660554997623, 0.00035439038765616715, 0.0003584485384635627, 0.0003625407989602536, 0.0003666671400424093, 0.0003708275908138603, 0.0003750224132090807, 0.0003792517527472228, 0.00038351546390913427, 0.00038781380862928927, 0.00039214687421917915, 0.0003965146897826344, 0.00040091737173497677, 0.0004053550073876977, 0.000409827713156119, 0.0004143353144172579, 0.00041887827683240175, 0.0004234563384670764, 0.000428069761255756, 0.000432718574302271, 0.00043740286491811275, 0.00044212277862243354, 0.0004468780825845897, 0.00045166906784288585, 0.0004564956179820001, 0.00046135782031342387, 0.0004662559076678008, 0.00047118973452597857, 0.0004761594464071095, 0.00048116486868821084, 0.00048620637971907854, 0.0004912837175652385, 0.000496396969538182, 0.0005015461356379092, 0.0005067314486950636, 0.0005119527340866625, 0.0005172098753973842, 0.0005225033964961767, 0.0005278326570987701, 0.0005331977736204863, 0.0005385990370996296, 0.0005440363311208785, 0.0005495095392689109, 0.0005550187779590487, 0.000560564047191292, 0.0005661452887579799, 0.0005717621534131467, 0.0005774152232334018, 0.0005831039743497968, 0.0005888284067623317, 0.0005945885786786675, 0.0006003846065141261, 0.0006062162574380636, 0.0006120835314504802, 0.0006179861957207322, 0.0006239243666641414, 0.0006298979860730469, 0.000635906879324466, 0.0006419509882107377, 0.0006480301381088793, 0.0006541446200571954, 0.000660293793771416, 0.0006664780084975064, 0.0006726969731971622, 0.0006789505132474005, 0.0006852387450635433, 0.0006915614358149469, 0.0006979186437092721, 0.000704309728462249, 0.0007107346900738776, 0.000717194052413106, 0.0007236871169880033, 0.0007302137673832476, 0.0007367740618065, 0.0007433677674271166, 0.000749994651414454, 0.0007566544227302074, 0.000763347081374377, 0.0007700725691393018, 0.0007768305367790163, 0.0007836207514628768, 0.0007904432131908834, 0.0007972975727170706, 0.0008041838300414383, 0.000811101752333343, 0.0008180507575161755, 0.0008250311366282403, 0.0008320423658005893, 0.0008390843286179006, 0.0008461567922495306, 0.0008532595238648355, 0.00086039217421785, 0.000867554685100913, 0.0008747467072680593, 0.000881967949680984, 0.0008892184705473483, 0.0008964976295828819, 0.0009038055432029068, 0.0009111412800848484, 0.0009185048984363675, 0.000925896514672786, 0.0009333154303021729, 0.0009407613542862236, 0.0009482338791713119, 0.0009557330631650984, 0.0009632583241909742, 0.0009708094876259565, 0.000978386146016419, 0.0009859881829470396, 0.0009936150163412094, 0.0010012664133682847, 0.0010089420247823, 0.0010166417341679335, 0.0010243641445413232, 0.0010321104200556874, 0.0010398795129731297, 0.001047670841217041, 0.0010554844047874212, 0.001063319738022983, 0.0010711762588471174, 0.001079053501598537, 0.0010869513498619199, 0.0010948694543913007, 0.0011028072331100702, 0.0011107645696029067, 0.0011187407653778791, 0.0011267352383583784, 0.0011347478721290827, 0.0011427780846133828, 0.0011508263414725661, 0.0011588905472308397, 0.0011669715167954564, 0.0011750682024285197, 0.0011831799056380987, 0.0011913070920854807, 0.0011994490632787347, 0.0012076052371412516, 0.0012157746823504567, 0.0012239573989063501, 0.0012321529211476445, 0.0012403603177517653, 0.0012485799379646778, 0.0012568102683871984, 0.0012650515418499708, 0.0012733032926917076, 0.0012815644731745124, 0.0012898349668830633, 0.0012981140753254294, 0.0013064013328403234, 0.0013146966230124235, 0.001322999014519155, 0.0013313081581145525, 0.0013396227732300758, 0.0013479434419423342, 0.0013562688836827874, 0.0013645992148667574, 0.0013729328056797385, 0.00138127023819834, 0.0013896106975153089, 0.0013979529030621052, 0.0014062970876693726, 0.0014146423200145364, 0.0014229880180209875, 0.0014313342981040478, 0.001439679297618568, 0.0014480233658105135, 0.0014563658041879535, 0.0014647061470896006, 0.0014730429975315928, 0.0014813769375905395, 0.001489706221036613, 0.0014980313135311007, 0.0015063508180901408, 0.0015146646182984114, 0.0015229718992486596, 0.0015312719624489546, 0.0015395641094073653, 0.0015478478744626045, 0.0015561230247840285, 0.0015643886290490627, 0.0015726437559351325, 0.0015808881726115942, 0.0015891212970018387, 0.0015973420813679695, 0.001605550292879343, 0.0016137452330440283, 0.0016219265526160598, 0.001630092621780932, 0.0016382436733692884, 0.0016463791253045201, 0.0016544973477721214, 0.0016625991556793451, 0.0016706830356270075, 0.0016787482891231775, 0.001686794450506568, 0.0016948208212852478, 0.0017028269357979298, 0.0017108118627220392, 0.0017187752528116107, 0.0017267160583287477, 0.0017346341628581285, 0.001742528984323144, 0.0017503990093246102, 0.0017582440050318837, 0.001766063622198999, 0.001773857045918703, 0.0017816235776990652, 0.0017893625190481544, 0.0017970731714740396, 0.0018047551857307553, 0.0018124071648344398, 0.0018200292252004147, 0.0018276205519214272, 0.001835180097259581, 0.0018427082104608417, 0.0018502030288800597, 0.0018576645525172353, 0.0018650921992957592, 0.0018724850378930569, 0.0018798420205712318, 0.0018871636129915714, 0.0018944492330774665, 0.0019016965525224805, 0.0019089062698185444, 0.001916077104397118, 0.0019232090562582016, 0.0019303009612485766, 0.0019373521208763123, 0.0019443626515567303, 0.0019513308070600033, 0.0019582570530474186, 0.0019651397597044706, 0.001971979159861803, 0.001978774555027485, 0.0019855245482176542, 0.001992229837924242, 0.0019988883286714554, 0.0020054993219673634, 0.0020120637491345406, 0.0020185804460197687, 0.002025048714131117, 0.0020314673893153667, 0.002037836704403162, 0.0020441559609025717, 0.002050423761829734, 0.0020566408056765795, 0.0020628049969673157, 0.002068916102871299, 0.002074974589049816, 0.0020809792913496494, 0.002086929278448224, 0.0020928243175148964, 0.002098663477227092, 0.002104446291923523, 0.00211017276160419, 0.002115842653438449, 0.0021214543376117945, 0.0021270080469548702, 0.0021325023844838142, 0.0021379380486905575, 0.0021433138754218817, 0.0021486287005245686, 0.0021538829896599054, 0.0021590753458440304, 0.0021642062347382307, 0.0021692749578505754, 0.0021742803510278463, 0.002179221948608756, 0.002184100216254592, 0.002188914455473423, 0.0021936632692813873, 0.0021983464248478413, 0.002202964387834072, 0.002207515761256218, 0.0022120007779449224, 0.0022164182737469673, 0.002220768481492996, 0.002225051634013653, 0.0022292654030025005, 0.0022334097884595394, 0.0022374852560460567, 0.002241491572931409, 0.0022454271093010902, 0.002249292330816388, 0.0022530867718160152, 0.002256809500977397, 0.0022604612167924643, 0.0022640402894467115, 0.002267547883093357, 0.0022709830664098263, 0.0022743449080735445, 0.0022776336409151554, 0.0022808481007814407, 0.0022839889861643314, 0.0022870551329106092, 0.002290046541020274, 0.0022929629776626825, 0.0022958044428378344, 0.0022985697723925114, 0.0023012603633105755, 0.00230387388728559, 0.0023064108099788427, 0.002308871364220977, 0.0023112555500119925, 0.0023135622031986713, 0.0023157920222729445, 0.0023179438430815935, 0.002320018131285906, 0.002322013722732663, 0.0023239313159137964, 0.002325770677998662, 0.0023275320418179035, 0.0023292135447263718, 0.002330817049369216, 0.002332340693101287, 0.0023337858729064465, 0.0023351507261395454, 0.0023364361841231585, 0.002337641781195998, 0.002338767983019352, 0.0023398136254400015, 0.0023407808039337397, 0.002341666491702199, 0.0023424720857292414, 0.0023431971203535795, 0.002343842526897788, 0.0023444066755473614, 0.002344890031963587, 0.002345293527469039, 0.002345616463571787, 0.002345858607441187, 0.0023460194934159517, 0.0023461002856492996, 0.0023461002856492996, 0.0023460194934159517, 0.002345858607441187, 0.002345616463571787, 0.002345293527469039, 0.002344890031963587, 0.0023444066755473614, 0.002343842526897788, 0.0023431971203535795, 0.0023424720857292414, 0.002341666491702199, 0.0023407808039337397, 0.0023398136254400015, 0.002338767983019352, 0.002337641781195998, 0.0023364361841231585, 0.0023351507261395454, 0.0023337858729064465, 0.002332340693101287, 0.002330817049369216, 0.0023292135447263718, 0.0023275320418179035, 0.002325770677998662, 0.0023239313159137964, 0.002322013722732663, 0.002320018131285906, 0.0023179438430815935, 0.0023157920222729445, 0.0023135622031986713, 0.0023112555500119925, 0.002308871364220977, 0.0023064108099788427, 0.00230387388728559, 0.0023012603633105755, 0.0022985697723925114, 0.0022958044428378344, 0.0022929629776626825, 0.002290046541020274, 0.0022870551329106092, 0.0022839889861643314, 0.0022808481007814407, 0.0022776336409151554, 0.0022743449080735445, 0.0022709830664098263, 0.002267547883093357, 0.0022640402894467115, 0.0022604612167924643, 0.002256809500977397, 0.0022530867718160152, 0.002249292330816388, 0.0022454271093010902, 0.002241491572931409, 0.0022374852560460567, 0.0022334097884595394, 0.0022292654030025005, 0.002225051634013653, 0.002220768481492996, 0.0022164182737469673, 0.0022120007779449224, 0.002207515761256218, 0.002202964387834072, 0.0021983464248478413, 0.0021936632692813873, 0.002188914455473423, 0.002184100216254592, 0.002179221948608756, 0.0021742803510278463, 0.0021692749578505754, 0.0021642062347382307, 0.0021590753458440304, 0.0021538829896599054, 0.0021486287005245686, 0.0021433138754218817, 0.0021379380486905575, 0.0021325023844838142, 0.0021270080469548702, 0.0021214543376117945, 0.002115842653438449, 0.00211017276160419, 0.002104446291923523, 0.002098663477227092, 0.0020928243175148964, 0.002086929278448224, 0.0020809792913496494, 0.002074974589049816, 0.002068916102871299, 0.0020628049969673157, 0.0020566408056765795, 0.002050423761829734, 0.0020441559609025717, 0.002037836704403162, 0.0020314673893153667, 0.002025048714131117, 0.0020185804460197687, 0.0020120637491345406, 0.0020054993219673634, 0.0019988883286714554, 0.001992229837924242, 0.0019855245482176542, 0.001978774555027485, 0.001971979159861803, 0.0019651397597044706, 0.0019582570530474186, 0.0019513308070600033, 0.0019443626515567303, 0.0019373521208763123, 0.0019303009612485766, 0.0019232090562582016, 0.001916077104397118, 0.0019089062698185444, 0.0019016965525224805, 0.0018944492330774665, 0.0018871636129915714, 0.0018798420205712318, 0.0018724850378930569, 0.0018650921992957592, 0.0018576645525172353, 0.0018502030288800597, 0.0018427082104608417, 0.001835180097259581, 0.0018276205519214272, 0.0018200292252004147, 0.0018124071648344398, 0.0018047551857307553, 0.0017970731714740396, 0.0017893625190481544, 0.0017816235776990652, 0.001773857045918703, 0.001766063622198999, 0.0017582440050318837, 0.0017503990093246102, 0.001742528984323144, 0.0017346341628581285, 0.0017267160583287477, 0.0017187752528116107, 0.0017108118627220392, 0.0017028269357979298, 0.0016948208212852478, 0.001686794450506568, 0.0016787482891231775, 0.0016706830356270075, 0.0016625991556793451, 0.0016544973477721214, 0.0016463791253045201, 0.0016382436733692884, 0.001630092621780932, 0.0016219265526160598, 0.0016137452330440283, 0.001605550292879343, 0.0015973420813679695, 0.0015891212970018387, 0.0015808881726115942, 0.0015726437559351325, 0.0015643886290490627, 0.0015561230247840285, 0.0015478478744626045, 0.0015395641094073653, 0.0015312719624489546, 0.0015229718992486596, 0.0015146646182984114, 0.0015063508180901408, 0.0014980313135311007, 0.001489706221036613, 0.0014813769375905395, 0.0014730429975315928, 0.0014647061470896006, 0.0014563658041879535, 0.0014480233658105135, 0.001439679297618568, 0.0014313342981040478, 0.0014229880180209875, 0.0014146423200145364, 0.0014062970876693726, 0.0013979529030621052, 0.0013896106975153089, 0.00138127023819834, 0.0013729328056797385, 0.0013645992148667574, 0.0013562688836827874, 0.0013479434419423342, 0.0013396227732300758, 0.0013313081581145525, 0.001322999014519155, 0.0013146966230124235, 0.0013064013328403234, 0.0012981140753254294, 0.0012898349668830633, 0.0012815644731745124, 0.0012733032926917076, 0.0012650515418499708, 0.0012568102683871984, 0.0012485799379646778, 0.0012403603177517653, 0.0012321529211476445, 0.0012239573989063501, 0.0012157746823504567, 0.0012076052371412516, 0.0011994490632787347, 0.0011913070920854807, 0.0011831799056380987, 0.0011750682024285197, 0.0011669715167954564, 0.0011588905472308397, 0.0011508263414725661, 0.0011427780846133828, 0.0011347478721290827, 0.0011267352383583784, 0.0011187407653778791, 0.0011107645696029067, 0.0011028072331100702, 0.0010948694543913007, 0.0010869513498619199, 0.001079053501598537, 0.0010711762588471174, 0.001063319738022983, 0.0010554844047874212, 0.001047670841217041, 0.0010398795129731297, 0.0010321104200556874, 0.0010243641445413232, 0.0010166417341679335, 0.0010089420247823, 0.0010012664133682847, 0.0009936150163412094, 0.0009859881829470396, 0.000978386146016419, 0.0009708094876259565, 0.0009632583241909742, 0.0009557330631650984, 0.0009482338791713119, 0.0009407613542862236, 0.0009333154303021729, 0.000925896514672786, 0.0009185048984363675, 0.0009111412800848484, 0.0009038055432029068, 0.0008964976295828819, 0.0008892184705473483, 0.000881967949680984, 0.0008747467072680593, 0.000867554685100913, 0.00086039217421785, 0.0008532595238648355, 0.0008461567922495306, 0.0008390843286179006, 0.0008320423658005893, 0.0008250311366282403, 0.0008180507575161755, 0.000811101752333343, 0.0008041838300414383, 0.0007972975727170706, 0.0007904432131908834, 0.0007836207514628768, 0.0007768305367790163, 0.0007700725691393018, 0.000763347081374377, 0.0007566544227302074, 0.000749994651414454, 0.0007433677674271166, 0.0007367740618065, 0.0007302137673832476, 0.0007236871169880033, 0.000717194052413106, 0.0007107346900738776, 0.000704309728462249, 0.0006979186437092721, 0.0006915614358149469, 0.0006852387450635433, 0.0006789505132474005, 0.0006726969731971622, 0.0006664780084975064, 0.000660293793771416, 0.0006541446200571954, 0.0006480301381088793, 0.0006419509882107377, 0.000635906879324466, 0.0006298979860730469, 0.0006239243666641414, 0.0006179861957207322, 0.0006120835314504802, 0.0006062162574380636, 0.0006003846065141261, 0.0005945885786786675, 0.0005888284067623317, 0.0005831039743497968, 0.0005774152232334018, 0.0005717621534131467, 0.0005661452887579799, 0.000560564047191292, 0.0005550187779590487, 0.0005495095392689109, 0.0005440363311208785, 0.0005385990370996296, 0.0005331977736204863, 0.0005278326570987701, 0.0005225033964961767, 0.0005172098753973842, 0.0005119527340866625, 0.0005067314486950636, 0.0005015461356379092, 0.000496396969538182, 0.0004912837175652385, 0.00048620637971907854, 0.00048116486868821084, 0.0004761594464071095, 0.00047118973452597857, 0.0004662559076678008, 0.00046135782031342387, 0.0004564956179820001, 0.00045166906784288585, 0.0004468780825845897, 0.00044212277862243354, 0.00043740286491811275, 0.000432718574302271, 0.000428069761255756, 0.0004234563384670764, 0.00041887827683240175, 0.0004143353144172579, 0.000409827713156119, 0.0004053550073876977, 0.00040091737173497677, 0.0003965146897826344, 0.00039214687421917915, 0.00038781380862928927, 0.00038351546390913427, 0.0003792517527472228, 0.0003750224132090807, 0.0003708275908138603, 0.0003666671400424093, 0.0003625407989602536, 0.0003584485384635627, 0.00035439038765616715, 0.0003503660554997623, 0.0003463754546828568, 0.0003424186143092811, 0.0003384953015483916, 0.0003346053999848664, 0.0003307488514110446, 0.0003269255394116044, 0.0003231352020520717, 0.0003193779557477683, 0.00031565348035655916, 0.0003119617176707834, 0.00030830249306745827, 0.00030467574833892286, 0.00030108122155070305, 0.00029751897091045976, 0.00029398873448371887, 0.00029049033764749765, 0.0002870237221941352, 0.0002835888008121401, 0.0002801852533593774, 0.00027681305073201656, 0.00027347204741090536, 0.0002701620978768915, 0.0002668829692993313, 0.0002636346034705639, 0.00026041685487143695, 0.0002572294033598155, 0.0002540723653510213, 0.00025094536249525845, 0.00024784833658486605, 0.0002447810838930309, 0.00024174354621209204, 0.00023873541795182973, 0.00023575664090458304, 0.00023280699679162353, 0.0002298863691976294, 0.00022699456894770265, 0.00022413143597077578, 0.00022129688295535743, 0.0002184906043112278, 0.00021571248362306505, 0.00021296237537171692, 0.0002102400758303702, 0.00020754542492795736, 0.0002048782625934109, 0.00020223844330757856, 0.00019962573423981667, 0.00019704006263054907, 0.00019448113744147122, 0.00019194884225726128, 0.00018944301700685173, 0.00018696348706725985, 0.00018451010691933334, 0.00018208262918051332, 0.00017968086467590183, 0.00017730469699017704, 0.00017495392239652574, 0.00017262838082388043, 0.0001703279122011736, 0.00016805229824967682, 0.00016580145165789872, 0.0001635750668356195, 0.00016137301281560212, 0.00015919514407869428, 0.0001570412568980828, 0.00015491119120270014, 0.00015280475781764835, 0.00015072179667185992, 0.00014866204583086073, 0.00014662544708698988, 0.00014461184036917984, 0.0001426209055352956, 0.0001406525116181001, 0.0001387065858580172, 0.00013678283721674234, 0.00013488114927895367, 0.000133001318317838, 0.0001311431551584974, 0.00012930654338560998, 0.00012749125016853213, 0.00012569707178045064, 0.0001239239500137046, 0.0001221716229338199, 0.00012043992319377139, 0.00011872870527440682, 0.00011703775089699775, 0.00011536689999047667, 0.00011371599248377606, 0.00011208486830582842, 0.00011047332372982055, 0.000108881235064473, 0.00010730839130701497, 0.00010575458873063326, 0.00010421971819596365, 0.00010270359052810818, 0.00010120603838004172, 9.972691623261198e-05, 9.826600580709055e-05, 9.682319068815559e-05, 9.539826714899391e-05, 9.399108967045322e-05, 9.260147635359317e-05, 9.122926712734625e-05, 8.987429464468732e-05, 8.853642066242173e-05, 8.721542690182105e-05, 8.591120422352105e-05, 8.46235707285814e-05, 8.335239544976503e-05, 8.209746010834351e-05, 8.085867011686787e-05, 7.963581447256729e-05, 7.842874038033187e-05, 7.723732414888218e-05, 7.60613547754474e-05, 7.490074494853616e-05, 7.375528366537765e-05, 7.262486906256527e-05, 7.150932651711628e-05, 7.040846685413271e-05, 6.932221003808081e-05, 6.825035234214738e-05, 6.71927336952649e-05, 6.614924495806918e-05, 6.51196896797046e-05, 6.410398054867983e-05, 6.31019429420121e-05, 6.211343134054914e-05, 6.113830022513866e-05, 6.017639680067077e-05, 5.922760465182364e-05, 5.829175643157214e-05, 5.736873208661564e-05, 5.645837518386543e-05, 5.5560558394063264e-05, 5.467513983603567e-05, 5.380198126658797e-05, 5.29409408045467e-05, 5.209188020671718e-05, 5.125468669575639e-05, 5.042920383857563e-05, 4.9615311581874266e-05, 4.881287895841524e-05, 4.8021764087025076e-05, 4.724186146631837e-05, 4.6473011025227606e-05, 4.571510726236738e-05, 4.496801193454303e-05, 4.4231623178347945e-05, 4.350578456069343e-05, 4.279036875232123e-05, 4.2085288441739976e-05, 4.139039447181858e-05, 4.070557770319283e-05, 4.003071808256209e-05, 3.93656846426893e-05, 3.8710371882189065e-05, 3.806465974776074e-05, 3.7428435462061316e-05, 3.6801571695832536e-05, 3.618394839577377e-05, 3.557548188837245e-05, 3.4976044844370335e-05, 3.43855244864244e-05, 3.3803815313149244e-05, 3.3230800909223035e-05, 3.2666383049217984e-05, 3.211044167983346e-05, 3.1562864023726434e-05, 3.102356640738435e-05, 3.0492439691442996e-05, 2.9969374736538157e-05, 2.9454260584316216e-05, 2.8947009923285805e-05, 2.844751907105092e-05, 2.7955682526226155e-05, 2.747140206338372e-05, 2.699458309507463e-05, 2.6525125576881692e-05, 2.606293674034532e-05])\n",
            "0.0005164151851561175\n",
            "0.0008189647335293438\n"
          ],
          "name": "stdout"
        },
        {
          "output_type": "display_data",
          "data": {
            "image/png": "[encoded data removed]",
            "text/plain": [
              "<Figure size 432x288 with 1 Axes>"
            ]
          },
          "metadata": {
            "tags": [],
            "needs_background": "light"
          }
        }
      ]
    },
    {
      "cell_type": "code",
      "metadata": {
        "id": "iBhZIBmkNsRp",
        "outputId": "97afb75d-341a-4b0f-bd5e-cfcca2b9f9d1",
        "colab": {
          "base_uri": "https://localhost:8080/",
          "height": 35
        }
      },
      "source": [
        "m_machine = pq.init_quantum_machine(pq.QMachineType.CPU)\n",
        "N=10\n",
        "M=3\n",
        "m_qlist = m_machine.qAlloc_many(3)\n",
        "m_clist = m_machine.cAlloc_many(3)\n",
        "prog = pq.QProg()\n",
        "prog.insert(pq.measure_all(m_qlist,m_clist)) #这里只测量第二个比特\n",
        "result = m_machine.run_with_configuration(prog, m_clist, 1000)\n",
        "res = m_machine.prob_run_tuple_list(prog,qlist,-1)\n",
        "print(result,res)\n",
        "\n",
        "#这边第一个问题是文档描述Measure是测量单比特的但是并没有给实例，我运行了一下他好像还是对所有比特进行了测量\n",
        "#而且一个不方便的事情是只有Measure和measure_all两个测量函数，其中Measure对象只能是单比特不能是列表，\n",
        "#而measure_all的对象也很迷惑我尝试对其参数输入部分比特的列表和全部比特得到的结果都是全部比特的测量结果，其输出是和Measure一样的"
      ],
      "execution_count": 12,
      "outputs": [
        {
          "output_type": "stream",
          "text": [
            "{'000': 1000} {'00': 1.0, '01': 0.0, '10': 0.0, '11': 0.0}\n"
          ],
          "name": "stdout"
        }
      ]
    },
    {
      "cell_type": "code",
      "metadata": {
        "id": "PFY8zwaJCEyP"
      },
      "source": [
        ""
      ],
      "execution_count": null,
      "outputs": []
    }
  ]
}