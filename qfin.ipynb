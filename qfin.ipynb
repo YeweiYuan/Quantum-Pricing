{
  "nbformat": 4,
  "nbformat_minor": 0,
  "metadata": {
    "colab": {
      "name": "qfin.ipynb",
      "provenance": [],
      "authorship_tag": "ABX9TyN+J5MGAw62JX+E2nmobs+y",
      "include_colab_link": true
    },
    "kernelspec": {
      "name": "python3",
      "display_name": "Python 3"
    }
  },
  "cells": [
    {
      "cell_type": "markdown",
      "metadata": {
        "id": "view-in-github",
        "colab_type": "text"
      },
      "source": [
        "<a href=\"https://colab.research.google.com/github/YeweiYuan/Quantum-Pricing/blob/main/qfin.ipynb\" target=\"_parent\"><img src=\"https://colab.research.google.com/assets/colab-badge.svg\" alt=\"Open In Colab\"/></a>"
      ]
    },
    {
      "cell_type": "markdown",
      "metadata": {
        "id": "-uxK700-QD6T"
      },
      "source": [
        "量子期权定价\n",
        "---\n",
        "\n"
      ]
    },
    {
      "cell_type": "markdown",
      "metadata": {
        "id": "2GwHuuchQNzn"
      },
      "source": [
        "---\n",
        "蒙特卡罗方法和blm\n",
        "\n"
      ]
    },
    {
      "cell_type": "code",
      "metadata": {
        "id": "PZf2LXwaBcQR"
      },
      "source": [
        "import numpy as np\n",
        "from scipy.stats import norm\n",
        "from numpy.random import standard_normal"
      ],
      "execution_count": null,
      "outputs": []
    },
    {
      "cell_type": "code",
      "metadata": {
        "id": "9rbcbaO2BcNV"
      },
      "source": [
        "class Sampling:\n",
        "  def __init__(self,N=10000,T=0.5,S_0=5.29,K=6,Rate=0.04,Sigma=0.24): #初始化六个月的股票期权，标的资产股票价格为5.29元，期权执行价格为6元，年化无风险利率和年化波动率分别为4%和24%，模拟10000次\n",
        "    self.N = N # sample size\n",
        "    self.T = T # time\n",
        "    self.S_0 = S_0 # init price\n",
        "    self.Rate = Rate # rate\n",
        "    self.Sigma = Sigma # volatility\n",
        "    self.K = K # strike price\n",
        "\n",
        "  def callMonteCarlo(self): #蒙特卡罗法，看涨期权\n",
        "    z = standard_normal(self.N)\n",
        "    S_t = self.S_0*np.exp((self.Rate-0.5*self.Sigma**2)*self.T+self.Sigma*z*np.sqrt(self.T))\n",
        "    call = np.maximum(0,S_t-self.K)\n",
        "    res = sum(call)*(np.exp(-self.Rate*self.T))/self.N\n",
        "    return res\n",
        "  \n",
        "  def callBLM(self): #BSM模型，看涨期权\n",
        "    d1 = (np.log(self.S_0/self.K)+(self.Rate*self.T))/(self.Sigma*np.sqrt(self.T))+0.5*self.Sigma*np.sqrt(self.T)\n",
        "    d2 = d1-self.Sigma*np.sqrt(self.T)\n",
        "    call = self.S_0*norm.cdf(d1,0.0,1.0)-self.K*np.exp(-self.Rate*self.T)*norm.cdf(d2,0.0,1.0)\n",
        "    return call"
      ],
      "execution_count": 74,
      "outputs": []
    },
    {
      "cell_type": "code",
      "metadata": {
        "id": "A__8hPZ-BcIT"
      },
      "source": [
        "test = Sampling()"
      ],
      "execution_count": 75,
      "outputs": []
    },
    {
      "cell_type": "code",
      "metadata": {
        "id": "y7oJojPcBcFd",
        "outputId": "16311070-9f7b-4e0f-d58a-59c5f1f533ab",
        "colab": {
          "base_uri": "https://localhost:8080/",
          "height": 52
        }
      },
      "source": [
        "print('MonteCarlo: %f \\nBLM: %f'%(test.callMonteCarlo(),test.callBLM()))"
      ],
      "execution_count": 76,
      "outputs": [
        {
          "output_type": "stream",
          "text": [
            "MonteCarlo: 0.156348 \n",
            "BLM: 0.153154\n"
          ],
          "name": "stdout"
        }
      ]
    },
    {
      "cell_type": "markdown",
      "metadata": {
        "id": "TbIbTjHTaJRU"
      },
      "source": [
        "---\n",
        "量子方法"
      ]
    },
    {
      "cell_type": "code",
      "metadata": {
        "id": "L108d_tijC0a",
        "outputId": "7404a1db-3481-4856-b085-eef2861f4d15",
        "colab": {
          "base_uri": "https://localhost:8080/",
          "height": 124
        }
      },
      "source": [
        "!pip install pyqpanda"
      ],
      "execution_count": 60,
      "outputs": [
        {
          "output_type": "stream",
          "text": [
            "Collecting pyqpanda\n",
            "\u001b[?25l  Downloading https://files.pythonhosted.org/packages/ae/c8/43d71e222155fc8ff024b2ba284cb01de8f373472d7c296b489cdb8b104c/pyqpanda-3.7.0-cp36-none-manylinux1_x86_64.whl (20.8MB)\n",
            "\u001b[K     |████████████████████████████████| 20.8MB 1.3MB/s \n",
            "\u001b[?25hRequirement already satisfied: numpy>=1.11.0 in /usr/local/lib/python3.6/dist-packages (from pyqpanda) (1.18.5)\n",
            "Installing collected packages: pyqpanda\n",
            "Successfully installed pyqpanda-3.7.0\n"
          ],
          "name": "stdout"
        }
      ]
    },
    {
      "cell_type": "code",
      "metadata": {
        "id": "WPYNCHTq5mpj"
      },
      "source": [
        "import pyqpanda.pyQPanda as pq\n",
        "import math"
      ],
      "execution_count": 61,
      "outputs": []
    },
    {
      "cell_type": "code",
      "metadata": {
        "id": "MoQr49VG4ssK"
      },
      "source": [
        "import numpy as np\n",
        "from scipy.stats import norm\n",
        "from numpy.random import standard_normal"
      ],
      "execution_count": 62,
      "outputs": []
    },
    {
      "cell_type": "code",
      "metadata": {
        "id": "QhyH6ycM1bRq"
      },
      "source": [
        "class Qsampling:\n",
        "  def __init__(self,N=3,M=3,T=0.5,S_0=5.29,K=6,Rate=0.04,Sigma=0.24,machineType=pq.QMachineType.CPU): #3个用于拟合分布的qubits，3个用于相位估计的qubits\n",
        "    self.N = N\n",
        "    self.M = M\n",
        "    self.T = T # time\n",
        "    self.S_0 = S_0 # init price\n",
        "    self.Rate = Rate # rate\n",
        "    self.Sigma = Sigma # volatility\n",
        "    self.K = K # strike price\n",
        "    self.m_machine = pq.init_quantum_machine(machineType)\n",
        "    self.m_qlist = self.m_machine.qAlloc_many(N+M)\n",
        "    self.m_clist = self.m_machine.cAlloc_many(N+M)\n",
        "    self.m_prog = pq.QProg()\n",
        "\n",
        "  def __del__(self):\n",
        "    pq.destroy_quantum_machine(self.m_machine)\n",
        "\n",
        "  def sample(self):\n",
        "    x_max = np.sqrt(self.T)*3 #这里取3倍标准差涵盖99.7的分布\n",
        "    delta = 2*x_max/(2**self.N-1)\n",
        "    p_j = []\n",
        "    for j in range(2**self.N):\n",
        "      p_j.append(norm.pdf(-x_max+j*delta))\n",
        "    p_j = p_j/sum(p_j)\n",
        "    '''\n",
        "    未完成的手动量子态振幅编码程序\n",
        "    p_mk = [[] for i in range(self.N)]\n",
        "    for m in range(self.N):\n",
        "      for k in range(2**(m+1)):\n",
        "        p_mk[m].append(sum(p_j[k*2**(self.N-m-1):(k+1)*2**(self.N-m-1)]))\n",
        " \n",
        "    theta_mk = [[] for i in range(self.N-1)]\n",
        "    for m in range(self.N-1):\n",
        "      for k in range(2**(m+1)):\n",
        "        theta_mk[m].append(np.arccos(np.sqrt(p_mk[m+1][2*k]/p_mk[m][k])))\n",
        "    '''\n",
        "    qlist = self.m_qlist\n",
        "    cir_encode = pq.amplitude_encode(qlist[0:self.N],p_j)\n",
        "    print(p_j)\n",
        "\n",
        "    #self.m_prog.insert(pq.Measure(qlist[0:self.N], self.m_clist[0:self.N]))\n",
        "    #res = pq.run_with_configuration(self.m_prog,m_clist,1000)\n",
        "\n",
        "    res = pq.prob_run_tuple_list(self.m_prog,qlist[0:N],N)\n",
        "    print(res)"
      ],
      "execution_count": 120,
      "outputs": []
    },
    {
      "cell_type": "code",
      "metadata": {
        "id": "TkPz7m2XjJvi",
        "outputId": "c6406888-6d14-42be-d28c-737db06dc2bd",
        "colab": {
          "base_uri": "https://localhost:8080/",
          "height": 328
        }
      },
      "source": [
        "Qtest = Qsampling()\n",
        "Qtest.sample()"
      ],
      "execution_count": 126,
      "outputs": [
        {
          "output_type": "stream",
          "text": [
            "[0.02584214 0.07779269 0.16218559 0.23417958 0.23417958 0.16218559\n",
            " 0.07779269 0.02584214]\n"
          ],
          "name": "stdout"
        },
        {
          "output_type": "error",
          "ename": "RuntimeError",
          "evalue": "ignored",
          "traceback": [
            "\u001b[0;31m---------------------------------------------------------------------------\u001b[0m",
            "\u001b[0;31mRuntimeError\u001b[0m                              Traceback (most recent call last)",
            "\u001b[0;32m<ipython-input-126-a52af90b1f15>\u001b[0m in \u001b[0;36m<module>\u001b[0;34m()\u001b[0m\n\u001b[1;32m      1\u001b[0m \u001b[0mQtest\u001b[0m \u001b[0;34m=\u001b[0m \u001b[0mQsampling\u001b[0m\u001b[0;34m(\u001b[0m\u001b[0;34m)\u001b[0m\u001b[0;34m\u001b[0m\u001b[0;34m\u001b[0m\u001b[0m\n\u001b[0;32m----> 2\u001b[0;31m \u001b[0mQtest\u001b[0m\u001b[0;34m.\u001b[0m\u001b[0msample\u001b[0m\u001b[0;34m(\u001b[0m\u001b[0;34m)\u001b[0m\u001b[0;34m\u001b[0m\u001b[0;34m\u001b[0m\u001b[0m\n\u001b[0m",
            "\u001b[0;32m<ipython-input-120-2dafedc00e68>\u001b[0m in \u001b[0;36msample\u001b[0;34m(self)\u001b[0m\n\u001b[1;32m     42\u001b[0m     \u001b[0;31m#res = pq.run_with_configuration(self.m_prog,m_clist,1000)\u001b[0m\u001b[0;34m\u001b[0m\u001b[0;34m\u001b[0m\u001b[0;34m\u001b[0m\u001b[0m\n\u001b[1;32m     43\u001b[0m \u001b[0;34m\u001b[0m\u001b[0m\n\u001b[0;32m---> 44\u001b[0;31m     \u001b[0mres\u001b[0m \u001b[0;34m=\u001b[0m \u001b[0mpq\u001b[0m\u001b[0;34m.\u001b[0m\u001b[0mprob_run_tuple_list\u001b[0m\u001b[0;34m(\u001b[0m\u001b[0mself\u001b[0m\u001b[0;34m.\u001b[0m\u001b[0mm_prog\u001b[0m\u001b[0;34m,\u001b[0m\u001b[0mqlist\u001b[0m\u001b[0;34m[\u001b[0m\u001b[0;36m0\u001b[0m\u001b[0;34m:\u001b[0m\u001b[0mN\u001b[0m\u001b[0;34m]\u001b[0m\u001b[0;34m,\u001b[0m\u001b[0mN\u001b[0m\u001b[0;34m)\u001b[0m\u001b[0;34m\u001b[0m\u001b[0;34m\u001b[0m\u001b[0m\n\u001b[0m\u001b[1;32m     45\u001b[0m     \u001b[0mprint\u001b[0m\u001b[0;34m(\u001b[0m\u001b[0mres\u001b[0m\u001b[0;34m)\u001b[0m\u001b[0;34m\u001b[0m\u001b[0;34m\u001b[0m\u001b[0m\n",
            "\u001b[0;31mRuntimeError\u001b[0m: global_quantum_machine init fail"
          ]
        }
      ]
    },
    {
      "cell_type": "code",
      "metadata": {
        "id": "kkSLsDecooaq",
        "outputId": "6d139356-cd78-4b22-b767-635c0cdde90c",
        "colab": {
          "base_uri": "https://localhost:8080/",
          "height": 239
        }
      },
      "source": [
        "Qtest.sample()\n",
        "res = pq.prob_run_tuple_list(Qtest.m_prog,Qtest.m_qlist[0:N],N)\n",
        "print(res)"
      ],
      "execution_count": 113,
      "outputs": [
        {
          "output_type": "stream",
          "text": [
            "[0.02584214 0.07779269 0.16218559 0.23417958 0.23417958 0.16218559\n",
            " 0.07779269 0.02584214]\n"
          ],
          "name": "stdout"
        },
        {
          "output_type": "error",
          "ename": "RuntimeError",
          "evalue": "ignored",
          "traceback": [
            "\u001b[0;31m---------------------------------------------------------------------------\u001b[0m",
            "\u001b[0;31mRuntimeError\u001b[0m                              Traceback (most recent call last)",
            "\u001b[0;32m<ipython-input-113-95a4b3b9f51f>\u001b[0m in \u001b[0;36m<module>\u001b[0;34m()\u001b[0m\n\u001b[1;32m      1\u001b[0m \u001b[0mQtest\u001b[0m\u001b[0;34m.\u001b[0m\u001b[0msample\u001b[0m\u001b[0;34m(\u001b[0m\u001b[0;34m)\u001b[0m\u001b[0;34m\u001b[0m\u001b[0;34m\u001b[0m\u001b[0m\n\u001b[0;32m----> 2\u001b[0;31m \u001b[0mres\u001b[0m \u001b[0;34m=\u001b[0m \u001b[0mpq\u001b[0m\u001b[0;34m.\u001b[0m\u001b[0mprob_run_tuple_list\u001b[0m\u001b[0;34m(\u001b[0m\u001b[0mQtest\u001b[0m\u001b[0;34m.\u001b[0m\u001b[0mm_prog\u001b[0m\u001b[0;34m,\u001b[0m\u001b[0mQtest\u001b[0m\u001b[0;34m.\u001b[0m\u001b[0mm_qlist\u001b[0m\u001b[0;34m[\u001b[0m\u001b[0;36m0\u001b[0m\u001b[0;34m:\u001b[0m\u001b[0mN\u001b[0m\u001b[0;34m]\u001b[0m\u001b[0;34m,\u001b[0m\u001b[0mN\u001b[0m\u001b[0;34m)\u001b[0m\u001b[0;34m\u001b[0m\u001b[0;34m\u001b[0m\u001b[0m\n\u001b[0m\u001b[1;32m      3\u001b[0m \u001b[0mprint\u001b[0m\u001b[0;34m(\u001b[0m\u001b[0mres\u001b[0m\u001b[0;34m)\u001b[0m\u001b[0;34m\u001b[0m\u001b[0;34m\u001b[0m\u001b[0m\n",
            "\u001b[0;31mRuntimeError\u001b[0m: global_quantum_machine init fail"
          ]
        }
      ]
    },
    {
      "cell_type": "code",
      "metadata": {
        "id": "qJJ0RpWSNF53"
      },
      "source": [
        ""
      ],
      "execution_count": null,
      "outputs": []
    }
  ]
}