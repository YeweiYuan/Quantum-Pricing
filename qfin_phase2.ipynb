{
  "nbformat": 4,
  "nbformat_minor": 0,
  "metadata": {
    "colab": {
      "name": "qfin.ipynb",
      "provenance": [],
      "collapsed_sections": [],
      "authorship_tag": "ABX9TyOv4ZMn6i17UHxemGW5hEsx",
      "include_colab_link": true
    },
    "kernelspec": {
      "name": "python3",
      "display_name": "Python 3"
    }
  },
  "cells": [
    {
      "cell_type": "markdown",
      "metadata": {
        "id": "view-in-github",
        "colab_type": "text"
      },
      "source": [
        "<a href=\"https://colab.research.google.com/github/YeweiYuan/Quantum-Pricing/blob/main/qfin_phase2.ipynb\" target=\"_parent\"><img src=\"https://colab.research.google.com/assets/colab-badge.svg\" alt=\"Open In Colab\"/></a>"
      ]
    },
    {
      "cell_type": "markdown",
      "metadata": {
        "id": "3rW2w9QoFsQt"
      },
      "source": [
        "功能性函数\n",
        "---"
      ]
    },
    {
      "cell_type": "markdown",
      "metadata": {
        "id": "eXW0J9mDGCpM"
      },
      "source": [
        "---\n",
        "辅助工具"
      ]
    },
    {
      "cell_type": "code",
      "metadata": {
        "id": "gn7Rdb9-F8ap",
        "outputId": "139ce7db-60eb-475f-f22c-710fe0f9f131",
        "colab": {
          "base_uri": "https://localhost:8080/",
          "height": 52
        }
      },
      "source": [
        "!pip install pyqpanda"
      ],
      "execution_count": null,
      "outputs": [
        {
          "output_type": "stream",
          "text": [
            "Requirement already satisfied: pyqpanda in /usr/local/lib/python3.6/dist-packages (3.7.0)\n",
            "Requirement already satisfied: numpy>=1.11.0 in /usr/local/lib/python3.6/dist-packages (from pyqpanda) (1.18.5)\n"
          ],
          "name": "stdout"
        }
      ]
    },
    {
      "cell_type": "code",
      "metadata": {
        "id": "dnJ5EjMOGBJ8"
      },
      "source": [
        "import pyqpanda.pyQPanda as pq\n",
        "import math\n",
        "import matplotlib.pyplot as plt\n",
        "import numpy as np"
      ],
      "execution_count": null,
      "outputs": []
    },
    {
      "cell_type": "markdown",
      "metadata": {
        "id": "soWtW5eXzPcr"
      },
      "source": [
        "- 运算函数"
      ]
    },
    {
      "cell_type": "code",
      "metadata": {
        "id": "OxOibYpQzXWQ"
      },
      "source": [
        "#在编辑函数的时候近可能把返回值返回circuit类型便于直接在程序中插入，输入变量根据功能大多为qubit或circuit\n",
        "\n",
        "def QG(qbits,G=pq.H):  #批量对qbits进行gate操作,默认G初始化为哈达玛门//注意qbits类型需要是列表注意这里一开始circuit=pq.create_empty_circuit()传参circuit会报错\n",
        "  circuit = pq.create_empty_circuit()\n",
        "  if type(G) == type(pq.H):  \n",
        "    for i in range(len(qbits)):\n",
        "      circuit.insert(G(qbits[i]))\n",
        "  return circuit\n",
        "\n",
        "def power(circuit,k):  #进行k次circuit操作\n",
        "  circuitk = pq.create_empty_circuit()\n",
        "  for j in range(k):\n",
        "    circuitk.insert(circuit)\n",
        "  return circuitk\n",
        "\n",
        "def Toffoli(qbit1,qbit2,qbit3): #Toffoli门\n",
        "  circuit = pq.create_empty_circuit()\n",
        "  circuit.insert(pq.X(qbit3).control([qbit1,qbit2]))\n",
        "  return circuit\n",
        "\n",
        "def Qor(qbit1,qbit2,qbit3):  #对qbit1,qbit2或运算,运算结果输出到qbit3\n",
        "  circuit = pq.create_empty_circuit()\n",
        "  circuit.insert(QG([qbit1,qbit2,qbit3],pq.X))\\\n",
        "  .insert(Toffoli(qbit1,qbit2,qbit3))\\\n",
        "  .insert(QG([qbit1,qbit2],pq.X))\n",
        "  return circuit\n",
        "\n",
        "def Qand(qbit1,qbit2,qbit3):  #对qbit1,qbit2与运算,运算结果输出到qbit3\n",
        "  circuit = pq.create_empty_circuit()\n",
        "  circuit.insert(QG([qbit1,qbit2,qbit3],pq.X))\\\n",
        "  .insert(Toffoli(qbit1,qbit2,qbit3))\\\n",
        "  .insert(QG([qbit1,qbit2],pq.X))\n",
        "  return circuit"
      ],
      "execution_count": null,
      "outputs": []
    },
    {
      "cell_type": "code",
      "metadata": {
        "id": "l97MKRxUz2NJ",
        "outputId": "8270f0cb-1a3b-4d79-ba8d-51c862b86af4",
        "colab": {
          "base_uri": "https://localhost:8080/",
          "height": 35
        }
      },
      "source": [
        "#检验X^n门，同时对所有比特操作  \n",
        "m_machine = pq.init_quantum_machine(pq.QMachineType.CPU)\n",
        "n=2\n",
        "qlist = m_machine.qAlloc_many(n)\n",
        "\n",
        "qprog = pq.QProg()\n",
        "qprog.insert(power(QG(qlist,pq.X),3)) #3次X应该最后结果等同于1次,即所有比特变为1\n",
        "\n",
        "res = m_machine.prob_run_tuple_list(qprog,qlist,-1)\n",
        "print(res)\n",
        "\n",
        "pq.draw_qprog(qprog)\n",
        "pq.finalize()"
      ],
      "execution_count": null,
      "outputs": [
        {
          "output_type": "stream",
          "text": [
            "{'00': 0.0, '01': 0.0, '10': 0.0, '11': 1.0}\n"
          ],
          "name": "stdout"
        }
      ]
    },
    {
      "cell_type": "markdown",
      "metadata": {
        "id": "YauyTJVbzhN1"
      },
      "source": [
        "- 功能函数"
      ]
    },
    {
      "cell_type": "code",
      "metadata": {
        "id": "zi-oXfjTzfpI"
      },
      "source": [
        "def phasee(machine,qbits,prog,operator=QG,m=2): #相位估计，输入qbits,估计的算子，先前的量子程序，和用于相位估计的比特数\n",
        "  anc = machine.qAlloc_many(m)\n",
        "  clist = machine.cAlloc_many(m)\n",
        "  for i in range(m):\n",
        "    prog.insert(pq.H(anc[i]))\n",
        "    prog.insert(power(operator(qlist,G=pq.X),2**i).control(anc[i]))\n",
        "  \n",
        "  prog.insert(pq.QFT(anc).dagger())\n",
        "  prog.insert(pq.measure_all(anc,clist))\n",
        "  result = machine.run_with_configuration(prog,clist,1000)\n",
        "  print(result)\n",
        "  pq.finalize()\n",
        "\n",
        "def to_zero(machine,qbits,cbits=0,flag=0):    #把qbits归零（复位），可以用在下面的函数或者一些调试，也可以在一些程序里重复利用qubit,flag为1时为变1 QwQnmd为什么不能把测量写进circuit\n",
        "  circuit = pq.create_empty_circuit()\n",
        "  ancprog = pq.create_empty_qprog()\n",
        "  if cbits == 0:\n",
        "    cbits = machine.cAlloc_many(len(qbits))\n",
        "  ancprog.insert(pq.measure_all(qbits,cbits))\n",
        "  res = machine.run_with_configuration(prog,cbits,1)\n",
        "  \n",
        "  for i in range(len(qbits)):\n",
        "    if int(list(result.keys())[0][i]) == 1-flag:\n",
        "      circuit.insert(QG([qbits[len(m_qlist)-1-i]],pq.X)) #这里有个坑，观测输出的二进制数是按逆序来的要转回来\n",
        "  return circuit\n",
        "\n",
        "def int_to_qbits(k,qbits): #把一整数转化为二进制编入qibits,可以在位不齐的时候用0补全，这里应该要求输入的qbits全0 注意量子比特第一位是代表2^0 感觉写电路时把一个qbit作为参数很困难，因为qbit好像需要实际先生成不然不能做参数很不方便\n",
        "  circuit = pq.create_empty_circuit()\n",
        "  k_bin = bin(k)[2:]             #注意返回的是str\n",
        "  for i in range(len(k_bin)):\n",
        "    if k_bin[i]=='1':\n",
        "     circuit.insert(pq.X(qbits[len(k_bin)-1-i]))\n",
        "  return circuit\n",
        "\n",
        "def compare_qc(qbits,comparor,k,machine): #把qubits的值不进行观测地与整数k进行比较，输出结果到comparor(量子态为1则k小或相等,0则k大)，c仍继续作为电路一部分\n",
        "  circuit = pq.create_empty_circuit()\n",
        "  c = comparor\n",
        "  if k == 0:\n",
        "    circuit.insert(pq.X(c[0]))\n",
        "    return circuit\n",
        "\n",
        "  k_bin = list(bin(k)[2:])  #k是用经典比特储存的，下面用经典的if进行控制，但是如果用量子比特则对应control-Gate(Circuit)，所以实际上比较两个量子形式的整数更为复杂，所以我们直接和整数k比较，再单独写量子形式的比较\n",
        "  if len(qbits) < len(k_bin):  #你都没人家k长\n",
        "    return circuit\n",
        "  elif len(qbits) > len(k_bin): #k长度不够则用0补齐\n",
        "    k_bin = ['0']*(len(qbits)-len(k_bin))+k_bin\n",
        "\n",
        "  n = len(qbits)\n",
        "  anc = machine.qAlloc_many(len(qbits)) #anc用于减法借位\n",
        "  if k_bin[n-1] == '1':\n",
        "    circuit.insert(pq.CNOT(qbits[0],anc[0]))\n",
        "  for i in range(1,n):\n",
        "    j = n-i-1            #一定注意str和qlist的index相反\n",
        "    if k_bin[j] == '0':\n",
        "      circuit.insert(Toffoli(qbits[i],anc[i-1],anc[i]))\n",
        "    elif k_bin[j] == '1':\n",
        "      circuit.insert(Qor(qbits[i],anc[i-1],anc[i]))\n",
        "\n",
        "  circuit.insert(pq.CNOT(anc[len(qbits)-1],c[0]))  #注意c是个list......\n",
        "  \n",
        "  circuit.insert(to_zero(machine,anc)) #anc复位\n",
        "  return circuit    \n",
        "\n",
        "'''\n",
        "def compare_qq(qbits,qbits_c,machine): #把qubits的值不进行观测地与另一量子列表qbits_c进行比较，输出结果到c(量子态为1则k小或相等,0则k大)，c仍继续作为电路一部分\n",
        "  circuit = pq.create_empty_circuit()\n",
        "  c = machine.qAlloc_many(1)\n",
        "\n",
        "  if len(qbits) < len(qbits_c):\n",
        "    qbits = machine.qAlloc_many((len(qbits_c)-len(qbits)))\n",
        "  elif len(qbits) > len(qbits_c): \n",
        "    qbits_c = ['0']*(len(qbits)-len(qbits_c))+qbits_c\n",
        "\n",
        "  n = len(qbits)\n",
        "  anc = machine.qAlloc_many(len(qbits)) #anc用于减法借位\n",
        "\n",
        "  circuit.insert(pq.CNOT(qbits[0],anc[0]))\n",
        "  for i in range(1,n):\n",
        "    #怎么让qbits_c control到两个电路呢。。。。。\n",
        "\n",
        "  circuit.insert(pq.CNOT(anc[len(qbits)],c))\n",
        "  \n",
        "  circuit.insert(to_zero(machine,anc)) #anc复位\n",
        "  return c    #因为这个函数要的就是结果c而且并不改变原qbits所以返回值是c\n",
        "'''"
      ],
      "execution_count": null,
      "outputs": []
    },
    {
      "cell_type": "code",
      "metadata": {
        "id": "tJuiU19b613W",
        "outputId": "e5a86021-6fc5-4a42-b022-0f19e0dc7f4e",
        "colab": {
          "base_uri": "https://localhost:8080/",
          "height": 52
        }
      },
      "source": [
        "#比特测量一个比较好的方式，Measure不好用\n",
        "m_machine = pq.init_quantum_machine(pq.QMachineType.CPU) \n",
        "\n",
        "m_qlist = m_machine.qAlloc_many(3)\n",
        "m_clist = m_machine.cAlloc_many(3)\n",
        "prog = pq.QProg()\n",
        "prog.insert(QG([m_qlist[0]],pq.X))\n",
        "\n",
        "prog.insert(pq.measure_all([m_qlist[1]],[m_clist[1]])) #这里只测量第二个比特\n",
        "\n",
        "result = m_machine.run_with_configuration(prog, [m_clist[1]], 1000)\n",
        "print(result)\n",
        "\n",
        "prog.insert(pq.measure_all([m_qlist[0]],[m_clist[0]])) #这里只测量第一个比特\n",
        "result = m_machine.run_with_configuration(prog, [m_clist[0]], 1000)\n",
        "print(result)"
      ],
      "execution_count": null,
      "outputs": [
        {
          "output_type": "stream",
          "text": [
            "{'0': 1000}\n",
            "{'1': 1000}\n"
          ],
          "name": "stdout"
        }
      ]
    },
    {
      "cell_type": "code",
      "metadata": {
        "id": "taWYRbbEJCKt",
        "outputId": "ea399e7b-e3ed-453d-a15e-2e195253644b",
        "colab": {
          "base_uri": "https://localhost:8080/",
          "height": 35
        }
      },
      "source": [
        "#检验相位估计\n",
        "m_machine = pq.init_quantum_machine(pq.QMachineType.CPU)\n",
        "n=1\n",
        "qlist = m_machine.qAlloc_many(n)\n",
        "\n",
        "qprog = pq.QProg()\n",
        "qprog.insert(QG(qlist,G=pq.H)).insert(QG(qlist,G=pq.Z))\n",
        "\n",
        "phasee(m_machine,qlist,qprog,m=4)"
      ],
      "execution_count": null,
      "outputs": [
        {
          "output_type": "stream",
          "text": [
            "{'0001': 408, '0011': 52, '0101': 24, '0111': 12, '1001': 22, '1011': 22, '1101': 55, '1111': 405}\n"
          ],
          "name": "stdout"
        }
      ]
    },
    {
      "cell_type": "code",
      "metadata": {
        "id": "4lqseBQObFfM",
        "outputId": "916afe32-f2b5-46f8-b5ef-fe3f4b66b8a1",
        "colab": {
          "base_uri": "https://localhost:8080/",
          "height": 52
        }
      },
      "source": [
        "#检验复位\n",
        "m_machine = pq.init_quantum_machine(pq.QMachineType.CPU) \n",
        "\n",
        "m_qlist = m_machine.qAlloc_many(3)\n",
        "m_clist = m_machine.cAlloc_many(3)\n",
        "prog = pq.QProg()\n",
        "prog.insert(QG([m_qlist[0]],pq.X))\n",
        "\n",
        "prog.insert(pq.measure_all(m_qlist,m_clist))\n",
        "result = m_machine.run_with_configuration(prog, m_clist, 100)\n",
        "print(result)\n",
        "\n",
        "prog.insert(to_zero(m_machine,m_qlist))\n",
        "\n",
        "prog.insert(pq.measure_all(m_qlist,m_clist))\n",
        "result = m_machine.run_with_configuration(prog, m_clist, 100)\n",
        "print(result)"
      ],
      "execution_count": null,
      "outputs": [
        {
          "output_type": "stream",
          "text": [
            "{'001': 100}\n",
            "{'000': 100}\n"
          ],
          "name": "stdout"
        }
      ]
    },
    {
      "cell_type": "code",
      "metadata": {
        "id": "Vi2MylmMTeeG",
        "outputId": "5f714fd0-d846-4d7b-f290-9856fb4555ec",
        "colab": {
          "base_uri": "https://localhost:8080/",
          "height": 52
        }
      },
      "source": [
        "#检验整数encode\n",
        "m_machine = pq.init_quantum_machine(pq.QMachineType.CPU) \n",
        "\n",
        "m_qlist4 = m_machine.qAlloc_many(3)\n",
        "m_qlist2 = m_machine.qAlloc_many(3)\n",
        "m_clist = m_machine.cAlloc_many(3)\n",
        "prog = pq.QProg()\n",
        "prog.insert(int_to_qbits(4,m_qlist4))\n",
        "\n",
        "circuit = pq.create_empty_circuit()\n",
        "k_bin = bin(2)[2:]             #注意返回的是str\n",
        "for i in range(len(k_bin)):\n",
        "  if k_bin[i]=='1':\n",
        "    circuit.insert(pq.X(m_qlist2[len(k_bin)-1-i]))\n",
        "prog.insert(circuit)\n",
        "\n",
        "prog.insert(pq.measure_all(m_qlist4,m_clist))\n",
        "result4 = m_machine.run_with_configuration(prog, m_clist, 100)\n",
        "print(result4)\n",
        "\n",
        "prog.insert(pq.measure_all(m_qlist2,m_clist))\n",
        "result2 = m_machine.run_with_configuration(prog, m_clist, 100)\n",
        "print(result2)"
      ],
      "execution_count": null,
      "outputs": [
        {
          "output_type": "stream",
          "text": [
            "{'100': 100}\n",
            "{'010': 100}\n"
          ],
          "name": "stdout"
        }
      ]
    },
    {
      "cell_type": "code",
      "metadata": {
        "id": "InEwrAOWe7ef",
        "outputId": "d634e59b-dfca-47b7-b877-d01875be8e1e",
        "colab": {
          "base_uri": "https://localhost:8080/",
          "height": 35
        }
      },
      "source": [
        "#检测比较器(量子位和给定整数比较)\n",
        "m_machine = pq.init_quantum_machine(pq.QMachineType.CPU) \n",
        "\n",
        "m_qlist = m_machine.qAlloc_many(3)\n",
        "m_clist = m_machine.cAlloc_many(1)\n",
        "\n",
        "prog = pq.QProg()\n",
        "comparor = m_machine.qAlloc_many(1)\n",
        "\n",
        "prog.insert(int_to_qbits(6,m_qlist))\n",
        "prog.insert(compare_qc(m_qlist,comparor,3,m_machine)) #k=3,比6小应该得到量子态1\n",
        "\n",
        "prog.insert(pq.measure_all(comparor,m_clist))\n",
        "\n",
        "res = m_machine.run_with_configuration(prog,m_clist,1000)\n",
        "\n",
        "if list(res.keys())[0] == '1':\n",
        "  print('6>3!')\n",
        "\n",
        "else:\n",
        "  print('你又出bug了')"
      ],
      "execution_count": null,
      "outputs": [
        {
          "output_type": "stream",
          "text": [
            "6>3!\n"
          ],
          "name": "stdout"
        }
      ]
    },
    {
      "cell_type": "markdown",
      "metadata": {
        "id": "-uxK700-QD6T"
      },
      "source": [
        "量子期权定价\n",
        "---\n",
        "\n"
      ]
    },
    {
      "cell_type": "markdown",
      "metadata": {
        "id": "2GwHuuchQNzn"
      },
      "source": [
        "---\n",
        "蒙特卡罗方法和bsm\n",
        "\n"
      ]
    },
    {
      "cell_type": "code",
      "metadata": {
        "id": "PZf2LXwaBcQR"
      },
      "source": [
        "import numpy as np\n",
        "from scipy.stats import norm\n",
        "from numpy.random import standard_normal\n",
        "import matplotlib.pyplot as plt"
      ],
      "execution_count": null,
      "outputs": []
    },
    {
      "cell_type": "code",
      "metadata": {
        "id": "9rbcbaO2BcNV"
      },
      "source": [
        "class Sampling:\n",
        "  def __init__(self,N=10000,T=365,S_0=5,K=5.5,Rate=0.04,Sigma=0.24,steps=100): #初始化一年的股票欧式期权，标的资产股票价格为5元，期权执行价格为6元，年化无风险利率和年化波动率分别为4%和24%，模拟10000次\n",
        "    self.N = N # sample size\n",
        "    self.T = T/365 # time\n",
        "    self.S_0 = S_0 # init price\n",
        "    self.Rate = Rate # rate\n",
        "    self.Sigma = Sigma # volatility\n",
        "    self.K = K # strike price\n",
        "    self.steps = steps #二叉树取节点数默认1年100次\n",
        "\n",
        "  def callMonteCarlo(self): #蒙特卡罗法，看涨期权\n",
        "    z = standard_normal(self.N)\n",
        "    S_t = self.S_0*np.exp((self.Rate-0.5*self.Sigma**2)*self.T+self.Sigma*z*np.sqrt(self.T))\n",
        "    call = np.maximum(0,S_t-self.K)\n",
        "    res = sum(call)*(np.exp(-self.Rate*self.T))/self.N\n",
        "    return res\n",
        "  \n",
        "  def callBSM(self): #BSM模型，看涨期权\n",
        "    d1 = (np.log(self.S_0/self.K)+(self.Rate*self.T))/ \\\n",
        "    (self.Sigma*np.sqrt(self.T))+0.5*self.Sigma*np.sqrt(self.T)\n",
        "    d2 = d1-self.Sigma*np.sqrt(self.T)\n",
        "    call = self.S_0*norm.cdf(d1,0.0,1.0)-self.K*np.exp(-self.Rate*self.T)*norm.cdf(d2,0.0,1.0)\n",
        "    return call\n",
        "\n",
        "  def callBin(self): #二叉树模型，看涨期权\n",
        "    u=np.exp(self.Sigma*np.sqrt(self.T/self.steps))\n",
        "    d=1/u\n",
        "    P=(np.exp(self.Rate*self.T/self.steps)-d)/(u-d)\n",
        "    S_t = [[] for i in range(self.steps+1)]\n",
        "    call = [[] for i in range(self.steps+1)] \n",
        "    S_t[0]=self.S_0*d**self.steps #最后一行最后一列的股票价格\n",
        "    call[0]=np.maximum(S_t[0]-self.K,0) #最后一行最后一列的期权价值\n",
        "    for i in range(1,self.steps+1):\n",
        "      S_t[i]=S_t[i-1]*(u**2) #计算最后一列的股票价格\n",
        "      call[i]=np.maximum(S_t[i]-self.K,0) #计算最后一列的期权价值\n",
        "    for j in range(self.steps,0,-1): #逐个节点往前计算\n",
        "      for i in range(0,j):\n",
        "        call[i]=(P*call[i+1]+(1-P)*call[i])/np.exp(self.Rate*self.T/self.steps)\n",
        "    return call[0]\n"
      ],
      "execution_count": null,
      "outputs": []
    },
    {
      "cell_type": "code",
      "metadata": {
        "id": "A__8hPZ-BcIT"
      },
      "source": [
        "test = Sampling()"
      ],
      "execution_count": null,
      "outputs": []
    },
    {
      "cell_type": "code",
      "metadata": {
        "id": "y7oJojPcBcFd",
        "outputId": "07c7ca4c-8fb5-46d3-b617-a7a94393398d",
        "colab": {
          "base_uri": "https://localhost:8080/",
          "height": 70
        }
      },
      "source": [
        "print('MonteCarlo: %f \\nBSM: %f \\nBIN: %f'%(test.callMonteCarlo(),test.callBSM(),test.callBin()))"
      ],
      "execution_count": null,
      "outputs": [
        {
          "output_type": "stream",
          "text": [
            "MonteCarlo: 0.364538 \n",
            "BLM: 0.361912 \n",
            "BIN: 0.360706\n"
          ],
          "name": "stdout"
        }
      ]
    },
    {
      "cell_type": "code",
      "metadata": {
        "id": "sIYu_rdcH4so",
        "outputId": "500f2351-c386-45b5-a65a-bbf9b5c5e132",
        "colab": {
          "base_uri": "https://localhost:8080/",
          "height": 283
        }
      },
      "source": [
        "MC = []\n",
        "for i in range(1000,201000,1000):\n",
        "  test = Sampling(N=i)\n",
        "  MC.append(test.callMonteCarlo())\n",
        "BSM = [test.callBSM()]*200\n",
        "plt.plot(range(1000,201000,1000),MC)\n",
        "plt.plot(range(1000,201000,1000),BSM)"
      ],
      "execution_count": null,
      "outputs": [
        {
          "output_type": "execute_result",
          "data": {
            "text/plain": [
              "[<matplotlib.lines.Line2D at 0x7f3d7efb04a8>]"
            ]
          },
          "metadata": {
            "tags": []
          },
          "execution_count": 10
        },
        {
          "output_type": "display_data",
          "data": {
            "image/png": "[encoded data removed]",
            "text/plain": [
              "<Figure size 432x288 with 1 Axes>"
            ]
          },
          "metadata": {
            "tags": [],
            "needs_background": "light"
          }
        }
      ]
    },
    {
      "cell_type": "markdown",
      "metadata": {
        "id": "TbIbTjHTaJRU"
      },
      "source": [
        "---\n",
        "量子方法"
      ]
    },
    {
      "cell_type": "code",
      "metadata": {
        "id": "L108d_tijC0a",
        "outputId": "979b9f9c-f917-49d8-ca92-5eff7365e86a",
        "colab": {
          "base_uri": "https://localhost:8080/",
          "height": 124
        }
      },
      "source": [
        "!pip install pyqpanda"
      ],
      "execution_count": null,
      "outputs": [
        {
          "output_type": "stream",
          "text": [
            "Collecting pyqpanda\n",
            "\u001b[?25l  Downloading https://files.pythonhosted.org/packages/ae/c8/43d71e222155fc8ff024b2ba284cb01de8f373472d7c296b489cdb8b104c/pyqpanda-3.7.0-cp36-none-manylinux1_x86_64.whl (20.8MB)\n",
            "\u001b[K     |████████████████████████████████| 20.8MB 1.6MB/s \n",
            "\u001b[?25hRequirement already satisfied: numpy>=1.11.0 in /usr/local/lib/python3.6/dist-packages (from pyqpanda) (1.18.5)\n",
            "Installing collected packages: pyqpanda\n",
            "Successfully installed pyqpanda-3.7.0\n"
          ],
          "name": "stdout"
        }
      ]
    },
    {
      "cell_type": "code",
      "metadata": {
        "id": "WPYNCHTq5mpj"
      },
      "source": [
        "import pyqpanda.pyQPanda as pq\n",
        "import math"
      ],
      "execution_count": null,
      "outputs": []
    },
    {
      "cell_type": "code",
      "metadata": {
        "id": "MoQr49VG4ssK"
      },
      "source": [
        "import matplotlib.pyplot as plt\n",
        "import numpy as np\n",
        "from scipy.stats import norm\n",
        "from numpy.random import standard_normal"
      ],
      "execution_count": null,
      "outputs": []
    },
    {
      "cell_type": "code",
      "metadata": {
        "id": "QhyH6ycM1bRq"
      },
      "source": [
        "class Qsampling:\n",
        "  def __init__(self,N=5,M=3,T=365,S_0=5,K=5.5,Rate=0.04,Sigma=0.24,machineType=pq.QMachineType.CPU,c=0.1): #3个用于拟合分布的qubits(2^(-n)的误差)，3个用于相位估计的qubits，1个ancilla qubit\n",
        "    self.N = N\n",
        "    self.M = M\n",
        "    self.T = T/365 # time\n",
        "    self.S_0 = S_0 # init price\n",
        "    self.Rate = Rate # rate\n",
        "    self.Sigma = Sigma # volatility\n",
        "    self.K = K # strike price\n",
        "    \n",
        "    self.m_machine = pq.init_quantum_machine(machineType)\n",
        "    self.m_qlist = self.m_machine.qAlloc_many(N)    #记录股价的N个qubits\n",
        "    self.AE_qlist = self.m_machine.qAlloc_many(M)    #相位估计的M个ancilla qubits\n",
        "    self.m_clist = self.m_machine.cAlloc_many(M)  \n",
        "    self.m_prog = pq.QProg()\n",
        "    self.c = c #s an additional scaling parameter\n",
        "\n",
        "    self.comparator = self.m_machine.qAlloc_many(1) \n",
        "    self.oqbit = self.m_machine.qAlloc_many(1)   #被用于振幅估计的最后一个比特\n",
        "\n",
        "  def __del__(self):\n",
        "    pq.destroy_quantum_machine(self.m_machine)\n",
        "\n",
        "  def sample(self):  #使用sample函数对布朗运动进行采样 S_T = self.S_0*np.exp((self.Rate-0.5*self.Sigma**2)*self.T+self.Sigma*w)\n",
        "    w_max = np.sqrt(self.T)*3 #首先进行布朗运动W的取样，这里取3倍标准差涵盖99.7的正态分布 \n",
        "    w_min = -w_max  \n",
        "    x_max = self.S_0*np.exp(self.Sigma*w_max+(self.Rate-0.5*self.Sigma**2)*self.T) #S_t服从对数正态分布所以我们这个量子振幅应该模拟出来一个对数正态分布（论文1里用的正态分布再在电路中进行指数运算等，这里参考ibm直接模拟对数正态分布）\n",
        "    x_min = self.S_0*np.exp(self.Sigma*w_min+(self.Rate-0.5*self.Sigma**2)*self.T)\n",
        "    delta = (x_max-x_min)/(2**self.N-1)\n",
        "    x_j = []\n",
        "    w_j = []\n",
        "    p_j = []\n",
        "    for j in range(2**self.N):\n",
        "      x_j.append(x_min+j*delta)\n",
        "      w_j.append((np.log((x_min+j*delta)/self.S_0)-(self.Rate-0.5*self.Sigma**2)*self.T)/self.Sigma)\n",
        "      p_j.append(norm.pdf(w_j[j]))\n",
        "      \n",
        "    p_j = np.array(p_j)/sum(p_j)\n",
        "\n",
        "    '''\n",
        "    未完成的手动量子态振幅编码程序\n",
        "    p_mk = [[] for i in range(self.N)]\n",
        "    for m in range(self.N):\n",
        "      for k in range(2**(m+1)):\n",
        "        p_mk[m].append(sum(p_j[k*2**(self.N-m-1):(k+1)*2**(self.N-m-1)]))\n",
        " \n",
        "    theta_mk = [[] for i in range(self.N-1)]\n",
        "    for m in range(self.N-1):\n",
        "      for k in range(2**(m+1)):\n",
        "        theta_mk[m].append(np.arccos(np.sqrt(p_mk[m+1][2*k]/p_mk[m][k])))\n",
        "    '''\n",
        "    cir_encode = pq.amplitude_encode(self.m_qlist,p_j)\n",
        "    self.m_prog.insert(cir_encode)\n",
        "\n",
        "    res = self.m_machine.prob_run_tuple_list(self.m_prog,qlist[0:self.N],-1)\n",
        "    \n",
        "    k_index = int((self.K-x_min)/delta) #向下取整\n",
        "    print(k_index)\n",
        "    #plt.plot(x_j,p_j)\n",
        "    #plt.plot(x_j,list(res.values()))\n",
        "    return x_j,p_j,k_index #返回取样点和取样点的概率\n",
        "  \n",
        "\n",
        "  def expectation(self): #使用expectation函数把采样的布朗运动映射到对应的期权价格并给出期望\n",
        "    prog.insert(compare_qc(self.m_qlist,self.comparor,3,self.m_machine))\n",
        "    x_j,p_j,k_index = self.sample()\n",
        "\n",
        "    '''\n",
        "    v_x = []\n",
        "    for x in x_j:\n",
        "      v_x.append(max(0,self.S_0*np.exp((self.Rate-0.5*self.Sigma**2)*self.T+self.Sigma*x)-self.K))\n",
        "    print(v_x)\n",
        "    这里文献1试图把v_x编入量子电路中直接测量，但是需要各种量子电路上的算数运算，他也没给具体实现方法，想了一整天没想出来怎么操作\n",
        "    '''\n",
        "    g_0 = math.pi/4 *（1-self.c）    #c是一个缩放率\n",
        "    \n",
        "    g_i = []\n",
        "    for i in range(2**self.N):\n",
        "        if i < k_index:\n",
        "            g_i.append(g_0)\n",
        "        else:\n",
        "            g_i.append((math.pi/2*self.c(i-K_index))/(2**self.N-1-k_index))  #初始化相位角\n",
        "\n",
        "    self.m_prog.insert(pq.RY(self.oqbit,g_0)))\n",
        "    for q_i in self.m_qlist:\n",
        "      i = 0\n",
        "      RY(qubit,g_i[i]*(2**i)).control([self.comparator,q_i])\n",
        "      i+=1\n",
        "    \n",
        "\n",
        "   def qbin(self):\n",
        "    print('uncompleted')\n"
      ],
      "execution_count": null,
      "outputs": []
    },
    {
      "cell_type": "code",
      "metadata": {
        "id": "0y6wsUXgQEjo"
      },
      "source": [
        ""
      ],
      "execution_count": null,
      "outputs": []
    },
    {
      "cell_type": "code",
      "metadata": {
        "id": "Gglg3G0UQnTX",
        "outputId": "6422e3de-637d-4b68-ea54-7f5a3d84a80e",
        "colab": {
          "base_uri": "https://localhost:8080/",
          "height": 283
        }
      },
      "source": [
        "#对对数正态分布的取样情况，能完成但是发现误差挺大\n",
        "Qtest = Qsampling()"
      ],
      "execution_count": null,
      "outputs": [
        {
          "output_type": "stream",
          "text": [
            "11\n"
          ],
          "name": "stdout"
        },
        {
          "output_type": "display_data",
          "data": {
            "image/png": "[encoded data removed]",
            "text/plain": [
              "<Figure size 432x288 with 1 Axes>"
            ]
          },
          "metadata": {
            "tags": [],
            "needs_background": "light"
          }
        }
      ]
    },
    {
      "cell_type": "code",
      "metadata": {
        "id": "v4LRi_cPmS9V"
      },
      "source": [
        ""
      ],
      "execution_count": null,
      "outputs": []
    }
  ]
}