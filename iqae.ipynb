{
  "nbformat": 4,
  "nbformat_minor": 0,
  "metadata": {
    "colab": {
      "name": "iqae.ipynb",
      "provenance": [],
      "collapsed_sections": [],
      "authorship_tag": "ABX9TyP7bCCmee4uFaf0PxX1hOrf",
      "include_colab_link": true
    },
    "kernelspec": {
      "name": "python3",
      "display_name": "Python 3"
    }
  },
  "cells": [
    {
      "cell_type": "markdown",
      "metadata": {
        "id": "view-in-github",
        "colab_type": "text"
      },
      "source": [
        "<a href=\"https://colab.research.google.com/github/YeweiYuan/Quantum-Pricing/blob/main/iqae.ipynb\" target=\"_parent\"><img src=\"https://colab.research.google.com/assets/colab-badge.svg\" alt=\"Open In Colab\"/></a>"
      ]
    },
    {
      "cell_type": "code",
      "metadata": {
        "id": "07rn_kFoCnli",
        "outputId": "755b22ee-da3b-4863-d2ee-f356ec1cf338",
        "colab": {
          "base_uri": "https://localhost:8080/"
        }
      },
      "source": [
        "!pip install pyqpanda"
      ],
      "execution_count": 1,
      "outputs": [
        {
          "output_type": "stream",
          "text": [
            "Requirement already satisfied: pyqpanda in /usr/local/lib/python3.6/dist-packages (3.7.2)\n",
            "Requirement already satisfied: matplotlib>=2.1 in /usr/local/lib/python3.6/dist-packages (from pyqpanda) (3.2.2)\n",
            "Requirement already satisfied: numpy>=1.11.0 in /usr/local/lib/python3.6/dist-packages (from pyqpanda) (1.18.5)\n",
            "Requirement already satisfied: cycler>=0.10 in /usr/local/lib/python3.6/dist-packages (from matplotlib>=2.1->pyqpanda) (0.10.0)\n",
            "Requirement already satisfied: kiwisolver>=1.0.1 in /usr/local/lib/python3.6/dist-packages (from matplotlib>=2.1->pyqpanda) (1.3.1)\n",
            "Requirement already satisfied: pyparsing!=2.0.4,!=2.1.2,!=2.1.6,>=2.0.1 in /usr/local/lib/python3.6/dist-packages (from matplotlib>=2.1->pyqpanda) (2.4.7)\n",
            "Requirement already satisfied: python-dateutil>=2.1 in /usr/local/lib/python3.6/dist-packages (from matplotlib>=2.1->pyqpanda) (2.8.1)\n",
            "Requirement already satisfied: six in /usr/local/lib/python3.6/dist-packages (from cycler>=0.10->matplotlib>=2.1->pyqpanda) (1.15.0)\n"
          ],
          "name": "stdout"
        }
      ]
    },
    {
      "cell_type": "code",
      "metadata": {
        "id": "vraYiGn1CvV3"
      },
      "source": [
        "import pyqpanda.pyQPanda as pq\n",
        "import pyqpanda.utils as pu\n",
        "from pyqpanda import *\n",
        "import math\n",
        "import matplotlib.pyplot as plt\n",
        "import numpy as np"
      ],
      "execution_count": 7,
      "outputs": []
    },
    {
      "cell_type": "code",
      "metadata": {
        "id": "xToiEy1kUQRr"
      },
      "source": [
        "def QG(qbits,G=pq.H):  #批量对qbits进行gate操作,默认G初始化为哈达玛门//注意qbits类型需要是列表注意这里一开始circuit=pq.create_empty_circuit()传参circuit会报错\n",
        "  circuit = pq.create_empty_circuit()\n",
        "  if type(G) == type(pq.H):  \n",
        "    for i in range(len(qbits)):\n",
        "      circuit.insert(G(qbits[i]))\n",
        "  return circuit\n",
        "\n",
        "def power(circuit,k):  #进行k次circuit操作\n",
        "  circuitk = pq.create_empty_circuit()\n",
        "  for j in range(k):\n",
        "    circuitk.insert(circuit)\n",
        "  return circuitk\n",
        "\n",
        "def to_zero(machine,qbits,cbits=0,flag=0):    #把qbits归零（复位），可以用在下面的函数或者一些调试，也可以在一些程序里重复利用qubit,flag为1时为变1 QwQnmd为什么不能把测量写进circuit\n",
        "  circuit = pq.create_empty_circuit()\n",
        "  ancprog = pq.create_empty_qprog()\n",
        "  if cbits == 0:\n",
        "    cbits = machine.cAlloc_many(len(qbits))\n",
        "  ancprog.insert(pq.measure_all(qbits,cbits))\n",
        "  res = machine.run_with_configuration(prog,cbits,1)\n",
        "  \n",
        "  for i in range(len(qbits)):\n",
        "    if int(list(result.keys())[0][i]) == 1-flag:\n",
        "      circuit.insert(QG([qbits[len(m_qlist)-1-i]],pq.X)) #这里有个坑，观测输出的二进制数是按逆序来的要转回来\n",
        "  return circuit"
      ],
      "execution_count": 3,
      "outputs": []
    },
    {
      "cell_type": "code",
      "metadata": {
        "id": "OBpUTHfngdue"
      },
      "source": [
        "'先搞一个算符A，全H门加一个RY门'\n",
        "def operatorA(qlist):\n",
        "  l = len(qlist)\n",
        "  A = pq.create_empty_circuit()\n",
        "  A.insert(QG(qlist[0:l-1]))\n",
        "  A.insert(pq.RY(qlist[l-1],np.pi/3))\n",
        "  return A"
      ],
      "execution_count": 15,
      "outputs": []
    },
    {
      "cell_type": "code",
      "metadata": {
        "id": "CmcJdt-8h8JM",
        "outputId": "38c9c8b1-eaa2-4cec-d599-954f4fd66a4a",
        "colab": {
          "base_uri": "https://localhost:8080/"
        }
      },
      "source": [
        "l = 2\n",
        "A = pq.create_empty_circuit()\n",
        "A.insert(QG(qlist[0:l-1]))\n",
        "A.insert(pq.RY(qlist[l-1],np.pi/3))\n",
        "A_matrix = pq.get_matrix(A)\n",
        "Adagger_matrix = pq.get_matrix(A.dagger())\n",
        "A_matrix"
      ],
      "execution_count": 21,
      "outputs": [
        {
          "output_type": "execute_result",
          "data": {
            "text/plain": [
              "[(0.6123724356957924+0j),\n",
              " (-0.35355339059327245+0j),\n",
              " (0.6123724356957924+0j),\n",
              " (-0.35355339059327245+0j),\n",
              " (0.35355339059327245+0j),\n",
              " (0.6123724356957924+0j),\n",
              " (0.35355339059327245+0j),\n",
              " (0.6123724356957924+0j),\n",
              " (0.6123724356957924+0j),\n",
              " (-0.35355339059327245+0j),\n",
              " (-0.6123724356957924+0j),\n",
              " (0.35355339059327245-0j),\n",
              " (0.35355339059327245+0j),\n",
              " (0.6123724356957924+0j),\n",
              " (-0.35355339059327245+0j),\n",
              " (-0.6123724356957924+0j)]"
            ]
          },
          "metadata": {
            "tags": []
          },
          "execution_count": 21
        }
      ]
    },
    {
      "cell_type": "code",
      "metadata": {
        "id": "jfScArPSlyKF"
      },
      "source": [
        "A_matrix = np.array(A_matrix).reshape(4,4) \n",
        "Adagger_matrix = np.array(Adagger_matrix).reshape(4,4)"
      ],
      "execution_count": 32,
      "outputs": []
    },
    {
      "cell_type": "code",
      "metadata": {
        "id": "2Uj3yvVYnO_d",
        "outputId": "df0f0b98-9013-4cea-b53d-1325a1571057",
        "colab": {
          "base_uri": "https://localhost:8080/"
        }
      },
      "source": [
        "A_matrix"
      ],
      "execution_count": 29,
      "outputs": [
        {
          "output_type": "execute_result",
          "data": {
            "text/plain": [
              "array([[ 0.61237244+0.j, -0.35355339+0.j,  0.61237244+0.j,\n",
              "        -0.35355339+0.j],\n",
              "       [ 0.35355339+0.j,  0.61237244+0.j,  0.35355339+0.j,\n",
              "         0.61237244+0.j],\n",
              "       [ 0.61237244+0.j, -0.35355339+0.j, -0.61237244+0.j,\n",
              "         0.35355339-0.j],\n",
              "       [ 0.35355339+0.j,  0.61237244+0.j, -0.35355339+0.j,\n",
              "        -0.61237244+0.j]])"
            ]
          },
          "metadata": {
            "tags": []
          },
          "execution_count": 29
        }
      ]
    },
    {
      "cell_type": "code",
      "metadata": {
        "id": "vasH3EqagAhr",
        "outputId": "367a7391-8dd2-4d6c-e3e4-b81f54cd305f",
        "colab": {
          "base_uri": "https://localhost:8080/"
        }
      },
      "source": [
        "phi0 = np.array([1/2**(1/2),1/2**(1/2)]) #算符A 1+1维的情况\n",
        "zero = np.array([1,0])\n",
        "Sphi0 = np.eye(4) - 2*np.kron(np.outer(phi0,phi0),np.outer(zero,zero))\n",
        "S0 = np.eye(4) - 2*np.kron(np.outer(zero,zero),np.outer(zero,zero))\n",
        "Qm = -Sphi0.dot(Adagger_matrix).dot(S0).dot(A_matrix)\n",
        "Qm.reshape(16,).tolist()"
      ],
      "execution_count": 44,
      "outputs": [
        {
          "output_type": "execute_result",
          "data": {
            "text/plain": [
              "[(-0.7499999999999947-0j),\n",
              " (0.433012701892216-0j),\n",
              " (0.24999999999999822-0j),\n",
              " (0.433012701892216-0j),\n",
              " (-0.4330127018922162-0j),\n",
              " (-0.7499999999999947-0j),\n",
              " (-0.43301270189221625-0j),\n",
              " (0.24999999999999814-0j),\n",
              " (0.24999999999999822-0j),\n",
              " (0.433012701892216-0j),\n",
              " (-0.7499999999999947-0j),\n",
              " (0.433012701892216-0j),\n",
              " (-0.43301270189221625-0j),\n",
              " (0.24999999999999814-0j),\n",
              " (-0.4330127018922162-0j),\n",
              " (-0.7499999999999947-0j)]"
            ]
          },
          "metadata": {
            "tags": []
          },
          "execution_count": 44
        }
      ]
    },
    {
      "cell_type": "code",
      "metadata": {
        "id": "HYKmdkcqoCOU"
      },
      "source": [
        "def operatorG(qlist):\n",
        "  Qm = [(-0.7499999999999947-0j),\n",
        " (0.433012701892216-0j),\n",
        " (0.24999999999999822-0j),\n",
        " (0.433012701892216-0j),\n",
        " (-0.4330127018922162-0j),\n",
        " (-0.7499999999999947-0j),\n",
        " (-0.43301270189221625-0j),\n",
        " (0.24999999999999814-0j),\n",
        " (0.24999999999999822-0j),\n",
        " (0.433012701892216-0j),\n",
        " (-0.7499999999999947-0j),\n",
        " (0.433012701892216-0j),\n",
        " (-0.43301270189221625-0j),\n",
        " (0.24999999999999814-0j),\n",
        " (-0.4330127018922162-0j),\n",
        " (-0.7499999999999947-0j)]\n",
        "  Q = pq.matrix_decompose(qlist,Qm)\n",
        "  return Q"
      ],
      "execution_count": 45,
      "outputs": []
    },
    {
      "cell_type": "code",
      "metadata": {
        "id": "cYVPLb1Yps1D",
        "outputId": "8c5e79d4-8a96-4511-c101-7ca879fff244",
        "colab": {
          "base_uri": "https://localhost:8080/"
        }
      },
      "source": [
        "operatorG(m_qlist)"
      ],
      "execution_count": 48,
      "outputs": [
        {
          "output_type": "execute_result",
          "data": {
            "text/plain": [
              "\n",
              "                                                                                                      ┌───────────────────────────────────────────┐                                               ┌───────────────────────────────────────────┐                                                                                             \n",
              "q_0:  |0>───────────────────────■────────────────────── ──────────────────────■────────────────────── ┤U4(1.570796,3.141593,2.094395,0.000000).dag├ ──────────────────────■────────────────────── ┤U4(1.570796,0.000000,1.047198,3.141593).dag├ ──────────────────────■────────────────────── ───────────────────────────────────────────── \n",
              "          ┌─────────────────────┴─────────────────────┐ ┌─────────────────────┴─────────────────────┐ └─────────────────────┬─────────────────────┘ ┌─────────────────────┴─────────────────────┐ └───────────────────────────────────────────┘ ┌─────────────────────┴─────────────────────┐ ┌───────────────────────────────────────────┐ \n",
              "q_1:  |0>─┤U4(0.000000,0.000000,0.000000,0.000000).dag├ ┤U4(1.570796,3.141593,3.141593,0.000000).dag├ ──────────────────────■────────────────────── ┤U4(1.570796,3.141593,0.000000,0.000000).dag├ ───────────────────────────────────────────── ┤U4(1.570796,3.141593,3.141593,0.000000).dag├ ┤U4(1.570796,0.000000,1.047198,3.141593).dag├ \n",
              "          └───────────────────────────────────────────┘ └───────────────────────────────────────────┘                                               └───────────────────────────────────────────┘                                               └───────────────────────────────────────────┘ └───────────────────────────────────────────┘ "
            ]
          },
          "metadata": {
            "tags": []
          },
          "execution_count": 48
        }
      ]
    },
    {
      "cell_type": "code",
      "metadata": {
        "id": "PwX49VC6YdiO"
      },
      "source": [
        "class IQAE:\n",
        "  def __init__(self, epsilon: float = 2**(-6), # Target precision for estimation target `a`\n",
        "         alpha: float = 0.1,       # Confidence level, the target probability is 1 - alpha\n",
        "         method: str = 'cher',     # Statistical method used to estimate the confidence intervals in each iteration\n",
        "         ratio: float = 2.0,      # Minimal q-ratio for FindNextK  \n",
        "         operatorA = None, #输入的是需要进行AE的算子A\n",
        "         qnumber: int = 0,        #A作用的比特数        \n",
        "         operatorG = None, #grover operater        \n",
        "         ): \n",
        "    '''    \n",
        "    validate_range('epsilon', epsilon, 0, 0.5)\n",
        "    validate_range('alpha', alpha, 0, 1)\n",
        "    validate_in_set('confint_method', confint_method, {'chernoff', 'beta'})\n",
        "    '''\n",
        "    self.epsilon = epsilon\n",
        "    self.alpha = alpha\n",
        "    self.method = method\n",
        "    self.ratio = ratio\n",
        "    self.qnumber = qnumber\n",
        "    \n",
        "    self.operatorA = operatorA\n",
        "    self.operatorG = operatorG\n",
        "\n",
        "    self.N_max = 32/(1-2*np.sin(np.pi/14))**2 * np.log(2/self.alpha * np.log(np.pi/4/self.epsilon)/np.log(self.ratio))\n",
        "    self.N_shots = int(self.N_max)  #这里怎么确定N_shots有待考究\n",
        "\n",
        "\n",
        "  def run(self):\n",
        "    i_count = 0\n",
        "    k = [0]\n",
        "    up = True\n",
        "    theta_l = 0\n",
        "    theta_u = np.pi / 2\n",
        "    rounds_m = int(np.log(np.pi / 8 / self.epsilon)/np.log(self.ratio)) + 1\n",
        "\n",
        "    res = []\n",
        "\n",
        "    if self.method == 'cher':\n",
        "      L_max = (np.arcsin(2/self.N_shots * np.log(2*rounds_m/self.alpha)))**(1/4)\n",
        "    \n",
        "    M_add = 0   #k不变时会被累积的出现1的次数\n",
        "    N_add = 0   #k不变时会被累积的观测总次数\n",
        "\n",
        "    while theta_u - theta_l > 2 * self.epsilon:\n",
        "      i_count += 1\n",
        "      k_next, up = self.FindNextK(k[i_count-1], theta_l, theta_u, up)\n",
        "      k.append(k_next)\n",
        "      K = 4*k_next + 2\n",
        "      if K > int(L_max/self.epsilon)+1:\n",
        "        N = int(self.N_shots * L_max/self.epsilon/K/10)+1\n",
        "      else:\n",
        "        N = self.N_shots\n",
        "      print(k_next,N)\n",
        "      M = self.Measure(k_next,N)\n",
        "      print(M)\n",
        "      if k[i_count] == k[i_count - 1]:\n",
        "        M_add += M\n",
        "        N_add += N\n",
        "        res = M_add/N_add\n",
        "      else:\n",
        "        M_add = 0\n",
        "        N_add = 0\n",
        "        res = M/N\n",
        "\n",
        "      theta_l,theta_u = self.chernoff_confint(res, rounds_m) \n",
        "\n",
        "    a_l = np.sin(theta_l)**2\n",
        "    a_u = np.sin(theta_u)**2\n",
        "\n",
        "    return a_l,a_u\n",
        "\n",
        "  def Measure(self,k: int, N: int) -> int: #返回1的次数\n",
        "    machine = pq.init_quantum_machine(pq.QMachineType.CPU) \n",
        "    qlist = machine.qAlloc_many(self.qnumber)\n",
        "    clist = machine.cAlloc_many(self.qnumber)\n",
        "    prog = pq.QProg()\n",
        "    prog.insert(self.operatorA(qlist))\n",
        "    prog.insert(power(self.operatorG(qlist),k))\n",
        "    prog.insert(pq.measure_all([m_qlist[self.qnumber-1]],[m_clist[self.qnumber-1]])) #这里只测量最后一个比特\n",
        "    res = m_machine.run_with_configuration(prog, [m_clist[self.qnumber-1]], N)\n",
        "    M = res.get('1')\n",
        "    return M\n",
        "\n",
        "  def FindNextK(self, k_i: int, theta_l: float, theta_u: float, up: bool) -> (int, bool):\n",
        "    ratio = self.ratio\n",
        "    if ratio <= 1:\n",
        "      raise ValueError('ratio must be larger than 1')  \n",
        "\n",
        "    K_i = 4 * k_i +2\n",
        "    theta_min = K_i * theta_l\n",
        "    theta_max = K_i * theta_u\n",
        "    K_max = int(np.pi / (theta_u - theta_l))\n",
        "    K = K_max - (K_max - 2) % 4\n",
        "\n",
        "    while K >= ratio * K_i:\n",
        "      q = K / K_i\n",
        "      if (q*theta_max) % (np.pi*2) <= np.pi and (q*theta_min) % (np.pi*2) <= np.pi:\n",
        "        K_next = K\n",
        "        up = True\n",
        "        k_next = int((K_next-2)/4)\n",
        "        return k_next, up\n",
        "\n",
        "      elif (q*theta_max) % (np.pi*2) >= np.pi and (q*theta_min) % (np.pi*2) >= np.pi:\n",
        "        K_next = K\n",
        "        up = True\n",
        "        k_next = int((K_next-2)/4)\n",
        "        return k_next, up\n",
        "      K -= 4\n",
        "\n",
        "    return k_i,up\n",
        "\n",
        "  def chernoff_confint(self,value: float, max_rounds: int):\n",
        "    shots = self.N_shots\n",
        "    alpha = self.alpha\n",
        "    eps = np.sqrt(3 * np.log(2 * max_rounds / alpha) / shots)\n",
        "    lower = np.maximum(0, value - eps)\n",
        "    upper = np.minimum(1, value + eps)\n",
        "    return lower, upper\n"
      ],
      "execution_count": 138,
      "outputs": []
    },
    {
      "cell_type": "code",
      "metadata": {
        "id": "fx1ZFmaop9_D"
      },
      "source": [
        "test= IQAE(0.1,0.1,'cher',2.0,operatorA,2,operatorG)"
      ],
      "execution_count": 139,
      "outputs": []
    },
    {
      "cell_type": "code",
      "metadata": {
        "id": "ptP9BRferbrc",
        "outputId": "19d0dc5c-b1a6-4d91-ae10-19095b71f6b7",
        "colab": {
          "base_uri": "https://localhost:8080/"
        }
      },
      "source": [
        "test.run()"
      ],
      "execution_count": 140,
      "outputs": [
        {
          "output_type": "stream",
          "text": [
            "0 424\n",
            "114\n",
            "1 26\n",
            "26\n"
          ],
          "name": "stdout"
        },
        {
          "output_type": "execute_result",
          "data": {
            "text/plain": [
              "(0.5529457032749244, 0.7080734182735712)"
            ]
          },
          "metadata": {
            "tags": []
          },
          "execution_count": 140
        }
      ]
    },
    {
      "cell_type": "code",
      "metadata": {
        "id": "alqc_m99STfQ",
        "outputId": "d21ffc6d-b29c-4d1f-8771-611031290929",
        "colab": {
          "base_uri": "https://localhost:8080/"
        }
      },
      "source": [
        "32/(1-2*np.sin(np.pi/14))**2 * np.log(2/(0.1) * np.log(np.pi/4/(1/2**5))/np.log(2))"
      ],
      "execution_count": null,
      "outputs": [
        {
          "output_type": "execute_result",
          "data": {
            "text/plain": [
              "782.2522956341725"
            ]
          },
          "metadata": {
            "tags": []
          },
          "execution_count": 20
        }
      ]
    },
    {
      "cell_type": "code",
      "metadata": {
        "id": "conkN9s3T0ZY",
        "outputId": "6aed6cf7-f68e-4a98-c38a-64eba91ae5d7",
        "colab": {
          "base_uri": "https://localhost:8080/"
        }
      },
      "source": [
        "m_machine = pq.init_quantum_machine(pq.QMachineType.CPU) \n",
        "m_qlist = m_machine.qAlloc_many(3)\n",
        "m_clist = m_machine.cAlloc_many(3)\n",
        "cir = pq.create_empty_circuit()\n",
        "cir.insert(pq.H(m_qlist[0]))"
      ],
      "execution_count": null,
      "outputs": [
        {
          "output_type": "execute_result",
          "data": {
            "text/plain": [
              "\n",
              "          ┌─┐ \n",
              "q_0:  |0>─┤H├ \n",
              "          └─┘ "
            ]
          },
          "metadata": {
            "tags": []
          },
          "execution_count": 23
        }
      ]
    },
    {
      "cell_type": "code",
      "metadata": {
        "id": "V-jGcIgrqfTx",
        "outputId": "86ebba07-f7d2-4dab-c1ae-6b626f78f405",
        "colab": {
          "base_uri": "https://localhost:8080/"
        }
      },
      "source": [
        "cir.begin()"
      ],
      "execution_count": null,
      "outputs": [
        {
          "output_type": "execute_result",
          "data": {
            "text/plain": [
              "<pyqpanda.pyQPanda.NodeIter at 0x7f68908c8650>"
            ]
          },
          "metadata": {
            "tags": []
          },
          "execution_count": 24
        }
      ]
    },
    {
      "cell_type": "code",
      "metadata": {
        "id": "n6ymEY5FUxQL"
      },
      "source": [
        "m_machine = pq.init_quantum_machine(pq.QMachineType.CPU) \n",
        "m_qlist = m_machine.qAlloc_many(2)\n",
        "m_clist = m_machine.cAlloc_many(2)\n",
        "cir = pq.create_empty_circuit()\n",
        "cir.insert(QG(m_qlist,pq.X))\n",
        "cir.insert(pq.Z(m_qlist[1]).control(m_qlist[0]))\n",
        "cir.insert(QG(m_qlist,pq.X))\n",
        "ma = pq.get_matrix(cir)"
      ],
      "execution_count": 4,
      "outputs": []
    },
    {
      "cell_type": "code",
      "metadata": {
        "id": "etOjOS1toY1u",
        "outputId": "ee9b9286-4d65-40bd-bb3c-8729d7285b3a",
        "colab": {
          "base_uri": "https://localhost:8080/"
        }
      },
      "source": [
        "qlist = m_machine.qAlloc_many(2)\n",
        "out_cir = pq.matrix_decompose(qlist,ma)\n",
        "out_cir"
      ],
      "execution_count": 5,
      "outputs": [
        {
          "output_type": "execute_result",
          "data": {
            "text/plain": [
              "\n",
              "                                                                                                      ┌───────────────────────────────────────────┐ ┌───────────────────────────────────────────┐ \n",
              "q_2:  |0>───────────────────────■────────────────────── ──────────────────────■────────────────────── ┤U4(4.712389,3.141593,0.000000,0.000000).dag├ ┤U4(4.712389,3.141593,0.000000,0.000000).dag├ \n",
              "          ┌─────────────────────┴─────────────────────┐ ┌─────────────────────┴─────────────────────┐ └─────────────────────┬─────────────────────┘ └───────────────────────────────────────────┘ \n",
              "q_3:  |0>─┤U4(1.570796,3.141593,0.000000,0.000000).dag├ ┤U4(1.570796,3.141593,0.000000,0.000000).dag├ ──────────────────────■────────────────────── ───────────────────────────────────────────── \n",
              "          └───────────────────────────────────────────┘ └───────────────────────────────────────────┘                                                                                             "
            ]
          },
          "metadata": {
            "tags": []
          },
          "execution_count": 5
        }
      ]
    },
    {
      "cell_type": "code",
      "metadata": {
        "id": "ummCBmBzZI6c"
      },
      "source": [
        "prog = pq.QProg()\n",
        "prog.insert(out_cir)\n",
        "res = m_machine.prob_run_tuple_list(prog,qlist,-1)"
      ],
      "execution_count": 10,
      "outputs": []
    },
    {
      "cell_type": "code",
      "metadata": {
        "id": "rOugnHxzaDrK",
        "outputId": "72d31a29-7896-4361-8bc9-d553cd5f4d61",
        "colab": {
          "base_uri": "https://localhost:8080/"
        }
      },
      "source": [
        "res"
      ],
      "execution_count": 11,
      "outputs": [
        {
          "output_type": "execute_result",
          "data": {
            "text/plain": [
              "[(0, 1.0), (1, 0.0), (2, 0.0), (3, 0.0)]"
            ]
          },
          "metadata": {
            "tags": []
          },
          "execution_count": 11
        }
      ]
    },
    {
      "cell_type": "code",
      "metadata": {
        "id": "lP9W04erauHc",
        "outputId": "d8afb834-a2bb-4956-a9d1-2a6a838cf4cb",
        "colab": {
          "base_uri": "https://localhost:8080/",
          "height": 227
        }
      },
      "source": [
        "pq.get_matrix(m_qlist[1])"
      ],
      "execution_count": 12,
      "outputs": [
        {
          "output_type": "error",
          "ename": "TypeError",
          "evalue": "ignored",
          "traceback": [
            "\u001b[0;31m---------------------------------------------------------------------------\u001b[0m",
            "\u001b[0;31mTypeError\u001b[0m                                 Traceback (most recent call last)",
            "\u001b[0;32m<ipython-input-12-968bb13b5979>\u001b[0m in \u001b[0;36m<module>\u001b[0;34m()\u001b[0m\n\u001b[0;32m----> 1\u001b[0;31m \u001b[0mpq\u001b[0m\u001b[0;34m.\u001b[0m\u001b[0mget_matrix\u001b[0m\u001b[0;34m(\u001b[0m\u001b[0mm_qlist\u001b[0m\u001b[0;34m[\u001b[0m\u001b[0;36m1\u001b[0m\u001b[0;34m]\u001b[0m\u001b[0;34m)\u001b[0m\u001b[0;34m\u001b[0m\u001b[0;34m\u001b[0m\u001b[0m\n\u001b[0m",
            "\u001b[0;31mTypeError\u001b[0m: get_matrix(): incompatible function arguments. The following argument types are supported:\n    1. (prog: pyqpanda.pyQPanda.QProg, nodeItrStart: pyqpanda.pyQPanda.NodeIter = <pyqpanda.pyQPanda.NodeIter object at 0x7f76081c8500>, nodeItrEnd: pyqpanda.pyQPanda.NodeIter = <pyqpanda.pyQPanda.NodeIter object at 0x7f76081c84c8>) -> List[complex]\n\nInvoked with: <pyqpanda.pyQPanda.Qubit object at 0x7f76081a13e8>"
          ]
        }
      ]
    },
    {
      "cell_type": "code",
      "metadata": {
        "id": "tXQ7h1tIdSXh"
      },
      "source": [
        ""
      ],
      "execution_count": null,
      "outputs": []
    },
    {
      "cell_type": "code",
      "metadata": {
        "id": "QMkqEhHcdSYy",
        "outputId": "a7a4161d-31ca-415d-f07a-7db9b21e6a6d",
        "colab": {
          "base_uri": "https://localhost:8080/"
        }
      },
      "source": [
        "np.array([1/2**(1/2),1/2**(1/2)])"
      ],
      "execution_count": 14,
      "outputs": [
        {
          "output_type": "execute_result",
          "data": {
            "text/plain": [
              "array([0.70710678, 0.70710678])"
            ]
          },
          "metadata": {
            "tags": []
          },
          "execution_count": 14
        }
      ]
    },
    {
      "cell_type": "code",
      "metadata": {
        "id": "3Y7aTXR0cC7b"
      },
      "source": [
        ""
      ],
      "execution_count": null,
      "outputs": []
    }
  ]
}