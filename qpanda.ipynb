{
  "nbformat": 4,
  "nbformat_minor": 0,
  "metadata": {
    "colab": {
      "name": "qpanda.ipynb",
      "provenance": [],
      "authorship_tag": "ABX9TyPgRbMpisLEy0YlEHUoyvxH",
      "include_colab_link": true
    },
    "kernelspec": {
      "name": "python3",
      "display_name": "Python 3"
    }
  },
  "cells": [
    {
      "cell_type": "markdown",
      "metadata": {
        "id": "view-in-github",
        "colab_type": "text"
      },
      "source": [
        "<a href=\"https://colab.research.google.com/github/YeweiYuan/Quantum-Pricing/blob/main/qpanda.ipynb\" target=\"_parent\"><img src=\"https://colab.research.google.com/assets/colab-badge.svg\" alt=\"Open In Colab\"/></a>"
      ]
    },
    {
      "cell_type": "markdown",
      "metadata": {
        "id": "-uxK700-QD6T"
      },
      "source": [
        "量子期权定价\n",
        "---\n",
        "\n"
      ]
    },
    {
      "cell_type": "markdown",
      "metadata": {
        "id": "2GwHuuchQNzn"
      },
      "source": [
        "---\n",
        "蒙特卡罗方法和blm\n",
        "\n"
      ]
    },
    {
      "cell_type": "code",
      "metadata": {
        "id": "PZf2LXwaBcQR"
      },
      "source": [
        "import numpy as np\n",
        "from scipy.stats import norm\n",
        "from numpy.random import standard_normal"
      ],
      "execution_count": null,
      "outputs": []
    },
    {
      "cell_type": "code",
      "metadata": {
        "id": "9rbcbaO2BcNV"
      },
      "source": [
        "class Sampling:\n",
        "  def __init__(self,N=10000,T=0.5,S_0=5.29,K=6,Rate=0.04,Sigma=0.24): #初始化六个月的股票期权，标的资产股票价格为5.29元，期权执行价格为6元，年化无风险利率和年化波动率分别为4%和24%，模拟10000次\n",
        "    self.N = N # sample size\n",
        "    self.T = T # time\n",
        "    self.S_0 = S_0 # init price\n",
        "    self.Rate = Rate # rate\n",
        "    self.Sigma = Sigma # volatility\n",
        "    self.K = K # strike price\n",
        "\n",
        "  def callMonteCarlo(self): #蒙特卡罗法，看涨期权\n",
        "    z = standard_normal(self.N)\n",
        "    S_t = self.S_0*np.exp((self.Rate-0.5*self.Sigma**2)*self.T+self.Sigma*z*np.sqrt(self.T))\n",
        "    call = np.maximum(0,S_t-self.K)\n",
        "    res = sum(call)*(np.exp(-self.Rate*self.T))/self.N\n",
        "    return res\n",
        "  \n",
        "  def callBLM(self): #BSM模型，看涨期权\n",
        "    d1 = (np.log(self.S_0/self.K)+(self.Rate*self.T))/(self.Sigma*np.sqrt(self.T))+0.5*self.Sigma*np.sqrt(self.T)\n",
        "    d2 = d1-self.Sigma*np.sqrt(self.T)\n",
        "    call = self.S_0*norm.cdf(d1,0.0,1.0)-self.K*np.exp(-self.Rate*self.T)*norm.cdf(d2,0.0,1.0)\n",
        "    return call"
      ],
      "execution_count": null,
      "outputs": []
    },
    {
      "cell_type": "code",
      "metadata": {
        "id": "A__8hPZ-BcIT"
      },
      "source": [
        "test = Sampling()"
      ],
      "execution_count": null,
      "outputs": []
    },
    {
      "cell_type": "code",
      "metadata": {
        "id": "y7oJojPcBcFd",
        "outputId": "c447e85a-c41b-4a52-e1bc-9035d05eca9c",
        "colab": {
          "base_uri": "https://localhost:8080/",
          "height": 52
        }
      },
      "source": [
        "print('MonteCarlo: %f \\nBLM: %f'%(test.callMonteCarlo(),test.callBLM()))"
      ],
      "execution_count": null,
      "outputs": [
        {
          "output_type": "stream",
          "text": [
            "MonteCarlo: 0.159636 \n",
            "BLM: 0.153154\n"
          ],
          "name": "stdout"
        }
      ]
    },
    {
      "cell_type": "markdown",
      "metadata": {
        "id": "TbIbTjHTaJRU"
      },
      "source": [
        "---\n",
        "量子方法"
      ]
    },
    {
      "cell_type": "code",
      "metadata": {
        "id": "L108d_tijC0a",
        "outputId": "ff9cee6e-d1b0-4f79-82b5-683e48b60bbe",
        "colab": {
          "base_uri": "https://localhost:8080/",
          "height": 144
        }
      },
      "source": [
        "!pip install pyqpanda"
      ],
      "execution_count": null,
      "outputs": [
        {
          "output_type": "stream",
          "text": [
            "Collecting pyqpanda\n",
            "\u001b[?25l  Downloading https://files.pythonhosted.org/packages/ae/c8/43d71e222155fc8ff024b2ba284cb01de8f373472d7c296b489cdb8b104c/pyqpanda-3.7.0-cp36-none-manylinux1_x86_64.whl (20.8MB)\n",
            "\u001b[K     |████████████████████████████████| 20.8MB 1.3MB/s \n",
            "\u001b[?25hRequirement already satisfied: numpy>=1.11.0 in /usr/local/lib/python3.6/dist-packages (from pyqpanda) (1.18.5)\n",
            "Installing collected packages: pyqpanda\n",
            "Successfully installed pyqpanda-3.7.0\n"
          ],
          "name": "stdout"
        }
      ]
    },
    {
      "cell_type": "code",
      "metadata": {
        "id": "WPYNCHTq5mpj"
      },
      "source": [
        "from pyqpanda import *"
      ],
      "execution_count": null,
      "outputs": []
    },
    {
      "cell_type": "code",
      "metadata": {
        "id": "MoQr49VG4ssK"
      },
      "source": [
        "import numpy as np\n",
        "from scipy.stats import norm\n",
        "from numpy.random import standard_normal"
      ],
      "execution_count": null,
      "outputs": []
    },
    {
      "cell_type": "code",
      "metadata": {
        "id": "QhyH6ycM1bRq"
      },
      "source": [
        "class Qsampling:\n",
        "  def _init_(self,N=15,T=0.5,S_0=5.29,K=6,Rate=0.04,Sigma=0.24):\n",
        "    self.N = N # qubit size\n",
        "    self.T = T # time\n",
        "    self.S_0 = S_0 # init price\n",
        "    self.Rate = Rate # rate\n",
        "    self.Sigma = Sigma # volatility\n",
        "    self.K = K # strike price\n",
        "\n",
        "  def sample(self):\n",
        "    x_max = np.sqrt(self.T)*3 #这里取3倍标准差涵盖99.7的分布\n",
        "    delta = 2*x_max/(2^self.N-1)\n",
        "    x = []\n",
        "    for j in range(2^self.N):\n",
        "      x.append(norm.pdf(-x_max+j*delta))\n",
        "    x = x/sum(x)\n",
        "\n",
        "    init(QMachineType.CPU)\n",
        "    qubits = qAlloc_many(self.N)\n",
        "    cbits = cAlloc_many(self.N)\n",
        "    prog = QProg()\n",
        "    "
      ],
      "execution_count": null,
      "outputs": []
    },
    {
      "cell_type": "code",
      "metadata": {
        "id": "TkPz7m2XjJvi",
        "outputId": "5533bdbf-3161-4db6-f7db-be6f6d9e2c97",
        "colab": {
          "base_uri": "https://localhost:8080/",
          "height": 35
        }
      },
      "source": [
        ""
      ],
      "execution_count": null,
      "outputs": [
        {
          "output_type": "stream",
          "text": [
            "{'0001': 268, '0111': 249, '1001': 215, '1111': 268}\n"
          ],
          "name": "stdout"
        }
      ]
    },
    {
      "cell_type": "code",
      "metadata": {
        "id": "kkSLsDecooaq"
      },
      "source": [
        ""
      ],
      "execution_count": null,
      "outputs": []
    }
  ]
}